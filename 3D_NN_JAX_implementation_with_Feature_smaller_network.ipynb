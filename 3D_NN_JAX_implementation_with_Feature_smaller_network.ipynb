{
 "cells": [
  {
   "cell_type": "markdown",
   "id": "183dd517",
   "metadata": {},
   "source": [
    "Import Libraries"
   ]
  },
  {
   "cell_type": "code",
   "execution_count": 1,
   "id": "19a8aa1f",
   "metadata": {},
   "outputs": [],
   "source": [
    "import jax\n",
    "import jax.numpy as jnp\n",
    "import jax.nn as jnn\n",
    "from flax import nnx\n",
    "from flax import struct\n",
    "import optax\n",
    "import matplotlib.pyplot as plt\n",
    "from tqdm import tqdm\n",
    "from typing import Any"
   ]
  },
  {
   "cell_type": "markdown",
   "id": "6bc34597",
   "metadata": {},
   "source": [
    "Hyper Parameters"
   ]
  },
  {
   "cell_type": "code",
   "execution_count": 2,
   "id": "cae85666",
   "metadata": {},
   "outputs": [],
   "source": [
    "Epochs = 1000\n",
    "alpha = 1.0\n",
    "gamma = 2.5\n",
    "lambda_ = 0.1\n",
    "Learn_Rate = 0.001\n",
    "beta_1 = 0.9\n",
    "beta_2 = 0.999\n",
    "Batch_size = 40\n",
    "train_split = 0.9"
   ]
  },
  {
   "cell_type": "markdown",
   "id": "47b5385e",
   "metadata": {},
   "source": [
    "Unpickling the data"
   ]
  },
  {
   "cell_type": "code",
   "execution_count": 17,
   "id": "002646d9",
   "metadata": {},
   "outputs": [
    {
     "name": "stdout",
     "output_type": "stream",
     "text": [
      "(2340, 152, 3)\n",
      "(10000, 152, 3)\n",
      "(10000,)\n",
      "(10000, 152, 3)\n",
      "(12340, 152, 3)\n",
      "(12340, 1)\n",
      "(12340, 152, 3)\n"
     ]
    }
   ],
   "source": [
    "# Due to errors I was experiencing this seems to be the quickest fix I could find to allow me to unpickle the data\n",
    "import sys\n",
    "import types\n",
    "import pickle\n",
    "\n",
    "fake_module = types.ModuleType(\"DataSetup\")\n",
    "\n",
    "class DataStore:\n",
    "    def __init__(self):\n",
    "        pass\n",
    "\n",
    "fake_module.DataStore = DataStore\n",
    "\n",
    "sys.modules[\"DataSetup\"] = fake_module\n",
    "\n",
    "data_file_1 = r\"C:\\Users\\samue\\Downloads\\Simulation.pickle\"\n",
    "data_file_2 = r\"C:\\Users\\samue\\Downloads\\Simulation 2.pickle\"\n",
    "\n",
    "with open(data_file_1,\"rb\") as f:\n",
    "    data_unpickled_1 = pickle.load(f)\n",
    "\n",
    "with open(data_file_2,\"rb\") as f:\n",
    "    data_unpickled_2 = pickle.load(f)\n",
    "\n",
    "_,data_object_1 = data_unpickled_1\n",
    "_,data_object_2 = data_unpickled_2\n",
    "\n",
    "input_dataset_1 = jnp.array(data_object_1.Indata)\n",
    "#data_index_1 = data_object_1.i\n",
    "e_dataset_1 = jnp.array(data_object_1.SE)\n",
    "e_prime_dataset_1 = jnp.array(data_object_1.Jac)\n",
    "\n",
    "input_dataset_2 = jnp.array(data_object_2.Indata)\n",
    "#data_index_2 = data_object_2.i\n",
    "e_dataset_2 = jnp.array(data_object_2.SE)\n",
    "e_prime_dataset_2 = jnp.array(data_object_2.Jac)\n",
    "\n",
    "input_dataset_2 = jnp.array(data_object_2.Indata)[0:2340]\n",
    "e_dataset_2 = jnp.array(data_object_2.SE)[0:2340]\n",
    "e_prime_dataset_2 = jnp.array(data_object_2.Jac)[0:2340]\n",
    "\n",
    "print(input_dataset_2.shape)\n",
    "print(input_dataset_1.shape)\n",
    "print(e_dataset_1.shape)\n",
    "print(e_prime_dataset_1.shape)\n",
    "\n",
    "input_dataset = jax.numpy.concatenate([input_dataset_1,input_dataset_2],axis=0)\n",
    "target_e_dataset = jax.numpy.concatenate([e_dataset_1, e_dataset_2],axis=0)\n",
    "target_e_dataset = jax.numpy.expand_dims(target_e_dataset,axis=1)\n",
    "target_e_prime_dataset = jax.numpy.concatenate([e_prime_dataset_1,e_prime_dataset_2],axis=0)\n",
    "\n",
    "print(input_dataset.shape)\n",
    "print(target_e_dataset.shape)\n",
    "print(target_e_prime_dataset.shape)"
   ]
  },
  {
   "cell_type": "markdown",
   "id": "558e5ebb",
   "metadata": {},
   "source": [
    "Redimensionalise"
   ]
  },
  {
   "cell_type": "code",
   "execution_count": 4,
   "id": "fb876813",
   "metadata": {},
   "outputs": [],
   "source": [
    "def Redimensionalise(self):\n",
    "    self.Disp = jnp.zeros((self.Dims,self.Dims,self.Dims,3))\n",
    "    m = 0\n",
    "    for i in range(self.Dims):\n",
    "        for j in range(self.Dims):\n",
    "            for k in range(self.Dims):\n",
    "                if self.xInMesh[0][i,j,k] == 0 or self.xInMesh[0][i,j,k] == 1 or self.xInMesh[1][i,j,k] == 0 or self.xInMesh[1][i,j,k] == 1 or self.xInMesh[2][i,j,k] == 0 or self.xInMesh[2][i,j,k] == 1:\n",
    "                    self.Disp[i,j,k,:] = self.RandDisp[self.Index,m,:]\n",
    "                    m = m +1\n",
    "    return self.Disp\n",
    "    "
   ]
  },
  {
   "cell_type": "markdown",
   "id": "ef53d879",
   "metadata": {},
   "source": [
    "RNG key"
   ]
  },
  {
   "cell_type": "code",
   "execution_count": 5,
   "id": "debbce9d",
   "metadata": {},
   "outputs": [],
   "source": [
    "seed = 42 # This can be changed but is here to make the results easy to reproduce\n",
    "base_key = jax.random.PRNGKey(seed)\n",
    "rngs = nnx.Rngs(base_key)"
   ]
  },
  {
   "cell_type": "markdown",
   "id": "fec14bee",
   "metadata": {},
   "source": [
    "Pre and post processing functions"
   ]
  },
  {
   "cell_type": "code",
   "execution_count": 6,
   "id": "6607d860",
   "metadata": {},
   "outputs": [],
   "source": [
    "def mean_and_std_dev(data,*,train_split):\n",
    "    split_idx = int(data.shape[0] * train_split)\n",
    "    train_data = data[:split_idx]\n",
    "    \n",
    "    mean = jnp.mean(train_data, axis=0)\n",
    "    std_dev = jnp.std(train_data, axis=0)\n",
    "    return {'mean':mean, 'std_dev':std_dev}\n",
    "\n",
    "def scale_data(data,*, data_params):\n",
    "    return (data - data_params['mean']) / data_params['std_dev']\n",
    "    \n",
    "\n",
    "def unscale_data(data,*,data_params):\n",
    "    return (data * data_params['std_dev']) + data_params['mean']\n",
    "\n",
    "def add_square_feature(data,*,axis, feature_number):\n",
    "    new_feature = jnp.square(data)\n",
    "    new_data = jnp.concatenate([data,new_feature],axis=axis)\n",
    "    feature_number += 1\n",
    "    return new_data, feature_number\n",
    "\n"
   ]
  },
  {
   "cell_type": "markdown",
   "id": "328deec4",
   "metadata": {},
   "source": [
    "Dataset - Note: need to remove input scaling in the dataset as its done in the model, need to add a parameter calulator for the input that concatenates the square data then gets params"
   ]
  },
  {
   "cell_type": "code",
   "execution_count": null,
   "id": "e4221141",
   "metadata": {},
   "outputs": [
    {
     "name": "stdout",
     "output_type": "stream",
     "text": [
      "INSPECTING RAW DATASET\n",
      "Key: 'displacements'\n",
      "  - Type: <class 'jaxlib._jax.ArrayImpl'>\n",
      "  - Shape: (12340, 912)\n",
      "  - Dtype: float32\n",
      "Key: 'target_e'\n",
      "  - Type: <class 'jaxlib._jax.ArrayImpl'>\n",
      "  - Shape: (12340,)\n",
      "  - Dtype: float32\n",
      "Key: 'target_e_prime'\n",
      "  - Type: <class 'jaxlib._jax.ArrayImpl'>\n",
      "  - Shape: (12340, 456)\n",
      "  - Dtype: float32\n",
      "------------------------------\n",
      "[2.8900618e-03 2.8923051e-03 2.8872348e-03 2.8968814e-03 2.8679431e-03\n",
      " 2.8880290e-03 2.8918695e-03 2.9087116e-03 2.8939452e-03 2.8820811e-03\n",
      " 2.9206073e-03 2.8910111e-03 2.9055146e-03 2.8789211e-03 2.8964309e-03\n",
      " 2.9044275e-03 2.8826289e-03 2.8897757e-03 2.8964640e-03 2.8790655e-03\n",
      " 2.8754773e-03 2.9039108e-03 2.8681895e-03 2.8857610e-03 2.8790105e-03\n",
      " 2.8741271e-03 2.8825605e-03 2.8848723e-03 2.8908534e-03 2.8906178e-03\n",
      " 2.8912819e-03 2.9047849e-03 2.8822962e-03 2.8798738e-03 2.8724291e-03\n",
      " 2.8842089e-03 2.8919308e-03 2.9025357e-03 2.8885130e-03 2.8751364e-03\n",
      " 2.9005159e-03 2.8780780e-03 2.8749481e-03 2.9029169e-03 2.8852988e-03\n",
      " 2.9096350e-03 2.8920732e-03 2.8924858e-03 2.8760002e-03 2.8759874e-03\n",
      " 2.8852047e-03 2.8993997e-03 2.8990195e-03 2.8848378e-03 2.8943804e-03\n",
      " 2.8729623e-03 2.8791581e-03 2.9099225e-03 2.8841663e-03 2.8785625e-03\n",
      " 2.8785968e-03 2.8893021e-03 2.9012342e-03 2.8704887e-03 2.9012775e-03\n",
      " 2.8994475e-03 2.8753628e-03 2.8982174e-03 2.8888276e-03 2.9001450e-03\n",
      " 2.8761991e-03 2.8692791e-03 2.8874371e-03 2.8721180e-03 2.9099158e-03\n",
      " 2.8885810e-03 2.9028070e-03 2.8926237e-03 2.9155444e-03 2.8820261e-03\n",
      " 2.8793241e-03 2.8873968e-03 2.8967799e-03 2.8732242e-03 2.8811705e-03\n",
      " 2.9026722e-03 2.8826084e-03 2.8698333e-03 2.8885957e-03 2.8728703e-03\n",
      " 2.8983606e-03 2.8716447e-03 2.8818429e-03 2.8899268e-03 2.8753781e-03\n",
      " 2.8865794e-03 2.9038324e-03 2.8796226e-03 2.8770261e-03 2.8976691e-03\n",
      " 2.8860040e-03 2.8960307e-03 2.8921983e-03 2.8969017e-03 2.8929973e-03\n",
      " 2.8986938e-03 2.8947322e-03 2.8933315e-03 2.8814897e-03 2.8910770e-03\n",
      " 2.8957580e-03 2.9020733e-03 2.8769898e-03 2.8860762e-03 2.8808278e-03\n",
      " 2.8987909e-03 2.8670672e-03 2.8786596e-03 2.9023944e-03 2.8810855e-03\n",
      " 2.8799707e-03 2.9074678e-03 2.8781742e-03 2.8978393e-03 2.8749143e-03\n",
      " 2.8850413e-03 2.8829456e-03 2.8790433e-03 2.8790860e-03 2.8930339e-03\n",
      " 2.8629811e-03 2.8729278e-03 2.8877510e-03 2.8944607e-03 2.8879428e-03\n",
      " 2.8775299e-03 2.8913640e-03 2.8694780e-03 2.8890476e-03 2.9010910e-03\n",
      " 2.8825002e-03 2.8768948e-03 2.8843151e-03 2.8861687e-03 2.8732223e-03\n",
      " 2.8827232e-03 2.8951243e-03 2.8751788e-03 2.8845959e-03 2.8991380e-03\n",
      " 2.8957273e-03 2.8800848e-03 2.8864490e-03 2.8637573e-03 2.8759756e-03\n",
      " 2.8982672e-03 2.8925082e-03 2.8754035e-03 2.8655350e-03 2.9072361e-03\n",
      " 2.8840208e-03 2.8671431e-03 2.8702056e-03 2.8981462e-03 2.9110441e-03\n",
      " 2.8806971e-03 2.8842206e-03 2.8905727e-03 2.8772056e-03 2.8848464e-03\n",
      " 2.8946397e-03 2.8846571e-03 2.8866827e-03 2.8976074e-03 2.8959732e-03\n",
      " 2.8692421e-03 2.8805844e-03 2.8822483e-03 2.8525963e-03 2.8824725e-03\n",
      " 2.8811942e-03 2.8834944e-03 2.8821137e-03 2.9004230e-03 2.8883971e-03\n",
      " 2.9057763e-03 2.8896262e-03 2.8834008e-03 2.8939946e-03 2.8898597e-03\n",
      " 2.8742342e-03 2.8885663e-03 2.8904621e-03 2.8984321e-03 2.8906679e-03\n",
      " 2.8993820e-03 2.8892925e-03 2.8777285e-03 2.8891372e-03 2.8806231e-03\n",
      " 2.9028293e-03 2.8943624e-03 2.8821609e-03 2.9024428e-03 2.8757765e-03\n",
      " 2.8940972e-03 2.8988516e-03 2.8992912e-03 2.8973438e-03 2.8886225e-03\n",
      " 2.9176921e-03 2.9103742e-03 2.8975820e-03 2.8696132e-03 2.9150075e-03\n",
      " 2.8877812e-03 2.9000062e-03 2.8772936e-03 2.9008060e-03 2.8905550e-03\n",
      " 2.8867768e-03 2.8852744e-03 2.9023709e-03 2.9070505e-03 2.8966009e-03\n",
      " 2.9012787e-03 2.8945529e-03 2.8847554e-03 2.8992298e-03 2.8946840e-03\n",
      " 2.9092887e-03 2.8685674e-03 2.9078447e-03 2.8801188e-03 2.8957513e-03\n",
      " 2.8768019e-03 2.8883484e-03 2.8974088e-03 2.8820802e-03 2.8798124e-03\n",
      " 2.8937934e-03 2.8803032e-03 2.8983750e-03 2.8733290e-03 2.8790720e-03\n",
      " 2.8953108e-03 2.8915997e-03 2.8989436e-03 2.9004086e-03 2.8718500e-03\n",
      " 2.8926388e-03 2.8881740e-03 2.8770545e-03 2.8786182e-03 2.8904993e-03\n",
      " 2.8834974e-03 2.8714542e-03 2.8840606e-03 2.8890583e-03 2.8672556e-03\n",
      " 2.8882897e-03 2.8910367e-03 2.8859128e-03 2.9079374e-03 2.9061730e-03\n",
      " 2.8803831e-03 2.8811824e-03 2.8642840e-03 2.8754999e-03 2.8846154e-03\n",
      " 2.9020559e-03 2.9055232e-03 2.9009364e-03 2.8871750e-03 2.8742149e-03\n",
      " 2.9063828e-03 2.8969250e-03 2.8738480e-03 2.8972479e-03 2.8799160e-03\n",
      " 2.8699529e-03 2.8735278e-03 2.9028484e-03 2.8901810e-03 2.8984016e-03\n",
      " 2.8710936e-03 2.8874294e-03 2.9016885e-03 2.9051343e-03 2.8937247e-03\n",
      " 2.8664924e-03 2.8869316e-03 2.8949673e-03 2.8663336e-03 2.8710179e-03\n",
      " 2.8785951e-03 2.9009120e-03 2.8794373e-03 2.8896043e-03 2.8942160e-03\n",
      " 2.8903489e-03 2.9077458e-03 2.9021171e-03 2.8720242e-03 2.8764519e-03\n",
      " 2.8931424e-03 2.8729474e-03 2.8863805e-03 2.8997639e-03 2.8759651e-03\n",
      " 2.8882609e-03 2.8966684e-03 2.8767786e-03 2.8723700e-03 2.8859221e-03\n",
      " 2.8855088e-03 2.9208541e-03 2.8755483e-03 2.8830576e-03 2.8828897e-03\n",
      " 2.8783707e-03 2.8736789e-03 2.8843025e-03 2.8902374e-03 2.8859365e-03\n",
      " 2.8662866e-03 2.8886171e-03 2.8862462e-03 2.8986563e-03 2.8817069e-03\n",
      " 2.8907775e-03 2.9027208e-03 2.8929512e-03 2.8914425e-03 2.8677604e-03\n",
      " 2.8811349e-03 2.8791178e-03 2.8827817e-03 2.8913475e-03 2.8746279e-03\n",
      " 2.8789954e-03 2.8848106e-03 2.8824117e-03 2.9044193e-03 2.8831721e-03\n",
      " 2.8715688e-03 2.8854890e-03 2.9000745e-03 2.8933263e-03 2.9113700e-03\n",
      " 2.8755220e-03 2.8889601e-03 2.8746428e-03 2.8701043e-03 2.8659452e-03\n",
      " 2.8809048e-03 2.8828715e-03 2.8834576e-03 2.8849544e-03 2.9118147e-03\n",
      " 2.8957450e-03 2.8729925e-03 2.8701937e-03 2.8966202e-03 2.8970041e-03\n",
      " 2.8840681e-03 2.8962416e-03 2.8750298e-03 2.8685979e-03 2.8911242e-03\n",
      " 2.8848758e-03 2.8865472e-03 2.9080452e-03 2.8804764e-03 2.8665981e-03\n",
      " 2.8715206e-03 2.8793816e-03 2.8842520e-03 2.8848227e-03 2.8960898e-03\n",
      " 2.8692116e-03 2.8680400e-03 2.8989038e-03 2.8700142e-03 2.8823405e-03\n",
      " 2.9083192e-03 2.8881012e-03 2.8812888e-03 2.8950996e-03 2.8745113e-03\n",
      " 2.8731150e-03 2.8883745e-03 2.8826711e-03 2.8818473e-03 2.8966779e-03\n",
      " 2.8641073e-03 2.8860641e-03 2.8777267e-03 2.8769921e-03 2.8996961e-03\n",
      " 2.8752850e-03 2.9222132e-03 2.8892553e-03 2.8786596e-03 2.8923710e-03\n",
      " 2.8944311e-03 2.9068473e-03 2.8758119e-03 2.8835707e-03 2.8828324e-03\n",
      " 2.8663429e-03 2.8918420e-03 2.8699227e-03 2.8911147e-03 2.8824655e-03\n",
      " 2.8837582e-03 2.8788981e-03 2.8946612e-03 2.8836897e-03 2.8821172e-03\n",
      " 2.8774228e-03 2.8813777e-03 2.9072373e-03 2.8562893e-03 2.8880450e-03\n",
      " 2.8981834e-03 2.8817595e-03 2.8567738e-03 2.8679071e-03 2.8798382e-03\n",
      " 2.8930320e-03 2.8918737e-03 2.8964388e-03 2.8732074e-03 2.8901196e-03\n",
      " 2.8935352e-03 2.8849118e-03 2.8720445e-03 2.8799444e-03 2.8908306e-03\n",
      " 2.8986488e-03 2.9051569e-03 2.8937289e-03 2.8723450e-03 2.8938870e-03\n",
      " 2.9034333e-03 2.8801861e-03 2.8734652e-03 2.8676761e-03 2.8779353e-03\n",
      " 2.8635426e-03 2.8865170e-03 2.8993515e-03 2.8735909e-03 2.8843912e-03\n",
      " 2.9060366e-03 7.4579061e-06 7.4430823e-06 7.4606323e-06 7.4949135e-06\n",
      " 7.4093687e-06 7.4057098e-06 7.5078610e-06 7.5121320e-06 7.4961599e-06\n",
      " 7.4500035e-06 7.4723639e-06 7.4855980e-06 7.5040903e-06 7.4869599e-06\n",
      " 7.4793525e-06 7.5350154e-06 7.4317009e-06 7.4269001e-06 7.4688869e-06\n",
      " 7.4915356e-06 7.3467904e-06 7.4635373e-06 7.3984720e-06 7.3881397e-06\n",
      " 7.4397326e-06 7.4180616e-06 7.4838858e-06 7.4306704e-06 7.4165496e-06\n",
      " 7.4702475e-06 7.4579943e-06 7.4558952e-06 7.4318950e-06 7.4700133e-06\n",
      " 7.4268119e-06 7.4201134e-06 7.4847467e-06 7.4702980e-06 7.4447262e-06\n",
      " 7.4386471e-06 7.4652789e-06 7.4211257e-06 7.4574291e-06 7.5024286e-06\n",
      " 7.4636655e-06 7.4914597e-06 7.4204936e-06 7.4999271e-06 7.3421152e-06\n",
      " 7.4077479e-06 7.4633585e-06 7.4457489e-06 7.4950331e-06 7.4453769e-06\n",
      " 7.4757995e-06 7.4090367e-06 7.4668224e-06 7.4998125e-06 7.4894247e-06\n",
      " 7.4699806e-06 7.4533850e-06 7.4509039e-06 7.4469008e-06 7.4459072e-06\n",
      " 7.4893464e-06 7.3947235e-06 7.4240475e-06 7.4834716e-06 7.4105428e-06\n",
      " 7.4466557e-06 7.4442596e-06 7.4194272e-06 7.4885579e-06 7.4144050e-06\n",
      " 7.5139806e-06 7.4264913e-06 7.4773325e-06 7.5275448e-06 7.4729473e-06\n",
      " 7.4837676e-06 7.4812147e-06 7.4406739e-06 7.4681966e-06 7.4686764e-06\n",
      " 7.4280965e-06 7.4956947e-06 7.4651171e-06 7.4131781e-06 7.4670052e-06\n",
      " 7.4257382e-06 7.4810264e-06 7.4293025e-06 7.4306422e-06 7.4958712e-06\n",
      " 7.4615664e-06 7.4575601e-06 7.4895765e-06 7.4851032e-06 7.4206523e-06\n",
      " 7.4541531e-06 7.4231566e-06 7.4811296e-06 7.5045464e-06 7.4336135e-06\n",
      " 7.4173836e-06 7.4445397e-06 7.4878762e-06 7.4686845e-06 7.4152154e-06\n",
      " 7.4715158e-06 7.4133550e-06 7.5147136e-06 7.5055427e-06 7.4560944e-06\n",
      " 7.4301993e-06 7.5075209e-06 7.3769952e-06 7.4578302e-06 7.4478539e-06\n",
      " 7.3958909e-06 7.4381687e-06 7.4929280e-06 7.3828951e-06 7.4554255e-06\n",
      " 7.4149666e-06 7.4675922e-06 7.4425898e-06 7.4614372e-06 7.3955239e-06\n",
      " 7.4886175e-06 7.4397913e-06 7.4668260e-06 7.4384493e-06 7.4530822e-06\n",
      " 7.4624036e-06 7.4824734e-06 7.4635573e-06 7.4548811e-06 7.4492718e-06\n",
      " 7.4443137e-06 7.4812051e-06 7.4217355e-06 7.4604277e-06 7.4895611e-06\n",
      " 7.4437389e-06 7.3883407e-06 7.4478116e-06 7.4260374e-06 7.3903911e-06\n",
      " 7.4754666e-06 7.5271141e-06 7.4235277e-06 7.4687623e-06 7.4096652e-06\n",
      " 7.4242585e-06 7.4300442e-06 7.4157201e-06 7.4109848e-06 7.4114237e-06\n",
      " 7.4922250e-06 7.4872810e-06 7.4315208e-06 7.4806626e-06 7.4707882e-06\n",
      " 7.5172929e-06 7.4386021e-06 7.4560257e-06 7.4730342e-06 7.4529075e-06\n",
      " 7.4853483e-06 7.4757309e-06 7.4253298e-06 7.4933128e-06 7.4487780e-06\n",
      " 7.4552418e-06 7.4261293e-06 7.4170357e-06 7.4533809e-06 7.3588608e-06\n",
      " 7.4982077e-06 7.3584220e-06 7.4138056e-06 7.4619770e-06 7.4386840e-06\n",
      " 7.4864174e-06 7.4838422e-06 7.4807394e-06 7.4130289e-06 7.4783698e-06\n",
      " 7.4570376e-06 7.4253585e-06 7.4663035e-06 7.4788459e-06 7.4713453e-06\n",
      " 7.4222939e-06 7.4564987e-06 7.4586683e-06 7.4831751e-06 7.4757158e-06\n",
      " 7.4850141e-06 7.4679124e-06 7.4684667e-06 7.4187087e-06 7.4778968e-06\n",
      " 7.4610348e-06 7.4830014e-06 7.4704321e-06 7.4288978e-06 7.4197801e-06\n",
      " 7.4205091e-06 7.4450145e-06 7.4789764e-06 7.4642862e-06 7.4911231e-06\n",
      " 7.4695313e-06 7.4496506e-06 7.4921222e-06 7.4061572e-06 7.4772079e-06\n",
      " 7.4750692e-06 7.4569421e-06 7.4403220e-06 7.4824352e-06 7.4431741e-06\n",
      " 7.4750910e-06 7.4745408e-06 7.4694717e-06 7.4645150e-06 7.4577520e-06\n",
      " 7.4653908e-06 7.4936233e-06 7.3822107e-06 7.5206981e-06 7.3765264e-06\n",
      " 7.4972759e-06 7.4681661e-06 7.4401992e-06 7.5422245e-06 7.4168624e-06\n",
      " 7.3973470e-06 7.4698009e-06 7.4341137e-06 7.4895747e-06 7.3848150e-06\n",
      " 7.4542345e-06 7.4799232e-06 7.4373711e-06 7.4756836e-06 7.4656750e-06\n",
      " 7.4626782e-06 7.4419836e-06 7.4878940e-06 7.3600295e-06 7.4410809e-06\n",
      " 7.4721452e-06 7.4111763e-06 7.4315653e-06 7.3912183e-06 7.4970771e-06\n",
      " 7.4448681e-06 7.4696295e-06 7.4627242e-06 7.4403420e-06 7.4692139e-06\n",
      " 7.4744821e-06 7.4152922e-06 7.3826068e-06 7.4097375e-06 7.4318623e-06\n",
      " 7.4555610e-06 7.4881914e-06 7.5358193e-06 7.4771938e-06 7.4501227e-06\n",
      " 7.4171512e-06 7.4660315e-06 7.4521563e-06 7.4210097e-06 7.4399418e-06\n",
      " 7.4916161e-06 7.3885071e-06 7.4042528e-06 7.4544732e-06 7.4618542e-06\n",
      " 7.4860723e-06 7.4311974e-06 7.4529930e-06 7.5178527e-06 7.4810446e-06\n",
      " 7.4464006e-06 7.4168529e-06 7.5339071e-06 7.4179520e-06 7.4390709e-06\n",
      " 7.4352133e-06 7.4664163e-06 7.4935551e-06 7.4799309e-06 7.4526083e-06\n",
      " 7.4242980e-06 7.4749223e-06 7.4592194e-06 7.5126345e-06 7.4382519e-06\n",
      " 7.4471227e-06 7.4899631e-06 7.3782671e-06 7.5255298e-06 7.4743766e-06\n",
      " 7.4327249e-06 7.4557079e-06 7.4953982e-06 7.4604591e-06 7.4627610e-06\n",
      " 7.4585928e-06 7.3650549e-06 7.4814084e-06 7.4563759e-06 7.4160516e-06\n",
      " 7.4300115e-06 7.4375625e-06 7.4601712e-06 7.4464638e-06 7.4551704e-06\n",
      " 7.4555619e-06 7.5066196e-06 7.4553418e-06 7.4718068e-06 7.4886639e-06\n",
      " 7.4183754e-06 7.4152485e-06 7.4823929e-06 7.4805826e-06 7.4867530e-06\n",
      " 7.4262412e-06 7.3976103e-06 7.5191952e-06 7.4634972e-06 7.4235991e-06\n",
      " 7.4502464e-06 7.4482286e-06 7.4247559e-06 7.4759205e-06 7.4760328e-06\n",
      " 7.4754412e-06 7.4133541e-06 7.4671993e-06 7.4788436e-06 7.4611730e-06\n",
      " 7.5093694e-06 7.4014470e-06 7.4783970e-06 7.4754244e-06 7.4650152e-06\n",
      " 7.4511127e-06 7.4092532e-06 7.4126533e-06 7.4699501e-06 7.4364370e-06\n",
      " 7.4416189e-06 7.5219600e-06 7.3989090e-06 7.4500413e-06 7.4825230e-06\n",
      " 7.5235589e-06 7.5232861e-06 7.4803529e-06 7.4495338e-06 7.3999290e-06\n",
      " 7.4726440e-06 7.4195582e-06 7.4182581e-06 7.4016662e-06 7.3748388e-06\n",
      " 7.4084032e-06 7.4471136e-06 7.3836018e-06 7.4379391e-06 7.4489435e-06\n",
      " 7.4852828e-06 7.4513650e-06 7.4422178e-06 7.5210082e-06 7.4020300e-06\n",
      " 7.3968517e-06 7.4724144e-06 7.4342488e-06 7.4347890e-06 7.4465538e-06\n",
      " 7.4888540e-06 7.4210061e-06 7.3711171e-06 7.4566919e-06 7.4059294e-06\n",
      " 7.4681507e-06 7.3789074e-06 7.4955487e-06 7.4199061e-06 7.4114287e-06\n",
      " 7.5250441e-06 7.4201462e-06 7.5411922e-06 7.5055523e-06 7.4340442e-06\n",
      " 7.4859977e-06 7.4536474e-06 7.4856835e-06 7.4663949e-06 7.4081372e-06\n",
      " 7.3890151e-06 7.4249724e-06 7.4470427e-06 7.4161385e-06 7.4751251e-06\n",
      " 7.4638906e-06 7.3830524e-06 7.4556178e-06 7.4053905e-06 7.4624932e-06\n",
      " 7.4613645e-06 7.4642899e-06 7.4399081e-06 7.5170074e-06 7.3878255e-06\n",
      " 7.4853224e-06 7.4605550e-06 7.4195727e-06 7.4284808e-06 7.3673118e-06\n",
      " 7.4789286e-06 7.4671466e-06 7.4589047e-06 7.4691084e-06 7.4357399e-06\n",
      " 7.4906034e-06 7.4714671e-06 7.4665063e-06 7.3905071e-06 7.4332429e-06\n",
      " 7.4473182e-06 7.5001626e-06 7.4601153e-06 7.5024527e-06 7.4132254e-06\n",
      " 7.4235168e-06 7.4920440e-06 7.4587424e-06 7.4313430e-06 7.3867564e-06\n",
      " 7.4263185e-06 7.3997735e-06 7.4595837e-06 7.4535137e-06 7.4128588e-06\n",
      " 7.4702966e-06 7.4394397e-06]\n"
     ]
    }
   ],
   "source": [
    "batch_num = input_dataset.shape[0] // Batch_size\n",
    "\n",
    "input_dataset = input_dataset.reshape((input_dataset.shape[0],456))\n",
    "displacement_dim = input_dataset.shape[1]\n",
    "\n",
    "# add features\n",
    "num_features = 0\n",
    "input_dataset, num_features = add_square_feature(input_dataset,axis=1, feature_number=num_features)\n",
    "\n",
    "target_e_dataset = target_e_dataset.reshape((target_e_dataset.shape[0],))\n",
    "target_e_prime_dataset = target_e_prime_dataset.reshape((target_e_prime_dataset.shape[0],456))\n",
    "\n",
    "params_dict_displacement = mean_and_std_dev(input_dataset,train_split=train_split)\n",
    "params_dict_target_e = mean_and_std_dev(target_e_dataset,train_split=train_split)\n",
    "params_dict_target_e_prime = mean_and_std_dev(target_e_prime_dataset,train_split=train_split)\n",
    "\n",
    "input_dataset_scaled = scale_data(input_dataset,data_params=params_dict_displacement)\n",
    "target_e_dataset_scaled = scale_data(target_e_dataset, data_params=params_dict_target_e)\n",
    "target_e_prime_dataset_scaled = scale_data(target_e_prime_dataset, data_params=params_dict_target_e_prime)\n",
    "\n",
    "Dataset_parameters = {\n",
    "    'displacements':params_dict_displacement,\n",
    "    'target_e':params_dict_target_e,\n",
    "    'target_e_prime':params_dict_target_e_prime,\n",
    "    'num_features':num_features,\n",
    "    'standard_displacement_dim':displacement_dim\n",
    "}\n",
    "\n",
    "Dataset = {\n",
    "    'displacements':input_dataset_scaled, \n",
    "    'target_e':target_e_dataset_scaled,\n",
    "    'target_e_prime':target_e_prime_dataset_scaled\n",
    "}\n",
    "\n",
    "print(\"INSPECTING RAW DATASET\")\n",
    "for key, value in Dataset.items():\n",
    "    print(f\"Key: '{key}'\")\n",
    "    print(f\"  - Type: {type(value)}\")\n",
    "    if hasattr(value, 'shape'):\n",
    "        print(f\"  - Shape: {value.shape}\")\n",
    "    else:\n",
    "        print(\"  - No shape attribute.\")\n",
    "    if hasattr(value, 'dtype'):\n",
    "        print(f\"  - Dtype: {value.dtype}\")\n",
    "print(\"------------------------------\")\n"
   ]
  },
  {
   "cell_type": "code",
   "execution_count": 8,
   "id": "b799cb83",
   "metadata": {},
   "outputs": [
    {
     "name": "stdout",
     "output_type": "stream",
     "text": [
      "1.1932328\n",
      "2.932326\n",
      "4.1916647\n"
     ]
    }
   ],
   "source": [
    "print(Dataset['displacements'][0][1])\n",
    "print(Dataset['target_e'][0])\n",
    "print(Dataset['target_e_prime'][0][1])"
   ]
  },
  {
   "cell_type": "markdown",
   "id": "2943c7c2",
   "metadata": {},
   "source": [
    "Node Classes and Acivations"
   ]
  },
  {
   "cell_type": "code",
   "execution_count": 9,
   "id": "8a77bc00",
   "metadata": {},
   "outputs": [],
   "source": [
    "class Linear(nnx.Module):\n",
    "    \"\"\"Linear node for neural network\"\"\"\n",
    "\n",
    "    def __init__(self,din: int,dout: int,*,rngs: nnx.Rngs):\n",
    "        key = rngs.params()\n",
    "        self.W = nnx.Param(jax.random.uniform(key=key, shape=(din,dout)))\n",
    "        self.b = nnx.Param(jnp.zeros(shape=(dout,)))\n",
    "        self.din, self.dout = din, dout\n",
    "\n",
    "    def __call__(self,x: jax.Array):\n",
    "        return(x @ self.W + self.b)\n",
    "    \n",
    "def SiLU(x: jax.Array):\n",
    "    \"\"\"Sigmoid Weighted Linear Unit activation function\"\"\"\n",
    "    return x * jax.nn.sigmoid(x)"
   ]
  },
  {
   "cell_type": "markdown",
   "id": "5d26f9bc",
   "metadata": {},
   "source": [
    "Model Architecture"
   ]
  },
  {
   "cell_type": "code",
   "execution_count": null,
   "id": "59bfbfa6",
   "metadata": {},
   "outputs": [],
   "source": [
    "class energy_prediction(nnx.Module):\n",
    "    \"\"\"\n",
    "    Model architecture\n",
    "    Inputs: standardised displacements and all engineered features and the parameters of the dataset\n",
    "    Outputs: standardised energy value and standardised energy derivatives wrt each of the displacements\n",
    "    \"\"\"\n",
    "\n",
    "    def __init__(self,dim_in: int, dim_hidden1_in: int, dim_hidden2_in: int, dim_out: int,*,rngs: nnx.Rngs):\n",
    "        self.layer1 = Linear(din=dim_in,dout=dim_hidden1_in,rngs=rngs)\n",
    "        self.layer2 = Linear(din=dim_hidden1_in,dout=dim_hidden2_in,rngs=rngs)\n",
    "        self.output_layer = Linear(din=dim_hidden2_in,dout=dim_out,rngs=rngs)\n",
    "        self.silu = SiLU\n",
    "\n",
    "    def forwardPass(self,x):\n",
    "            x = self.layer1(x)\n",
    "            x = self.silu(x)\n",
    "            x = self.layer2(x)\n",
    "            x = self.silu(x)\n",
    "            x = self.output_layer(x)\n",
    "            return x.squeeze()\n",
    "        \n",
    "    def __call__(self,x_in,dataset_params):\n",
    "        \n",
    "        e = jax.vmap(self.forwardPass)(x_in)\n",
    "        dedx = jax.vmap(jax.grad(self.forwardPass))\n",
    "        e_prime_raw = dedx(x_in)\n",
    "        e_prime_raw_lin_ft = e_prime_raw[:, :dataset_params['standard_displacement_dim']]\n",
    "\n",
    "        sigma_e = dataset_params['target_e']['std_dev']\n",
    "        sigma_x = dataset_params['displacements']['std_dev']\n",
    "        sigma_x_linear = sigma_x[:dataset_params['standard_displacement_dim']]\n",
    "        mean_e_prime = dataset_params['target_e_prime']['mean']\n",
    "        sigma_e_prime = dataset_params['target_e_prime']['std_dev']\n",
    "\n",
    "        e_prime_physical = e_prime_raw_lin_ft * (sigma_e/sigma_x_linear)\n",
    "        e_prime = (e_prime_physical - mean_e_prime) / sigma_e_prime\n",
    "\n",
    "        return e, e_prime\n"
   ]
  },
  {
   "cell_type": "markdown",
   "id": "fc036a78",
   "metadata": {},
   "source": [
    "Define optimiser and loss"
   ]
  },
  {
   "cell_type": "code",
   "execution_count": null,
   "id": "f469e747",
   "metadata": {},
   "outputs": [],
   "source": [
    "optimiser = optax.adam(learning_rate=Learn_Rate, b1=beta_1, b2=beta_2)\n",
    "\n",
    "def loss_fn(x: jax.Array, target_e, target_e_prime,*, Model, Dataset_parameters, alpha, gamma, lam): \n",
    "    \"\"\"\n",
    "    Calculates the loss of a model, works to minimise the mean square error of both \n",
    "    the strain energy prediction and the strain energy derivative prediction,\n",
    "    whilst forcing the function through zero.\n",
    "    \"\"\"\n",
    "    \n",
    "    prediction_e, prediction_e_prime = Model(x, Dataset_parameters)\n",
    "    loss_e = jnp.mean((prediction_e - target_e)**2)\n",
    "    loss_e_prime = jnp.mean((prediction_e_prime - target_e_prime)**2)\n",
    "\n",
    "    mean_e = Dataset_parameters['target_e']['mean']\n",
    "    std_dev_e = Dataset_parameters['target_e']['std_dev']\n",
    "    target_zero = (0 - mean_e) / std_dev_e\n",
    "    \n",
    "    x_zero = jnp.zeros(x[0].shape)\n",
    "    x_zero = jnp.expand_dims(x_zero, axis=0)\n",
    "    prediction_zero, _ = Model(x_zero, Dataset_parameters)\n",
    "    loss_zero = jnp.mean((prediction_zero - target_zero)**2)\n",
    "\n",
    "    return (alpha * loss_e + gamma * loss_e_prime + lam * loss_zero)"
   ]
  },
  {
   "cell_type": "markdown",
   "id": "e57659f0",
   "metadata": {},
   "source": [
    "Train State Bundle"
   ]
  },
  {
   "cell_type": "code",
   "execution_count": 12,
   "id": "b764c467",
   "metadata": {},
   "outputs": [],
   "source": [
    "@nnx.dataclass\n",
    "class TrainState(nnx.Object):\n",
    "    params: Any\n",
    "    graph_def: Any \n",
    "    state: Any\n",
    "    alpha: float \n",
    "    gamma: float \n",
    "    lambda_: float "
   ]
  },
  {
   "cell_type": "markdown",
   "id": "84118860",
   "metadata": {},
   "source": [
    "Train Step"
   ]
  },
  {
   "cell_type": "code",
   "execution_count": 13,
   "id": "da6228ab",
   "metadata": {},
   "outputs": [],
   "source": [
    "@nnx.jit\n",
    "def training_step(params,state,opt_state,batch,*,graph_def,Dataset_parameters,alpha,gamma,lambda_):\n",
    "\n",
    "    disp_in = batch['displacements']\n",
    "    e_target = batch['target_e']\n",
    "    e_prime_target = batch['target_e_prime']\n",
    "\n",
    "    def wrapped_loss_fn(params_,state_):\n",
    "        Model = nnx.merge(graph_def,params_,state_)\n",
    "        loss = loss_fn(\n",
    "            disp_in,\n",
    "            e_target,\n",
    "            e_prime_target,\n",
    "            Model=Model,\n",
    "            Dataset_parameters=Dataset_parameters,\n",
    "            alpha=alpha,\n",
    "            gamma=gamma,\n",
    "            lam=lambda_\n",
    "        )\n",
    "        return loss\n",
    "\n",
    "    loss, grads = nnx.value_and_grad(wrapped_loss_fn, argnums=0)(params, state) \n",
    "    updates, new_opt_state = optimiser.update(grads, opt_state, params)\n",
    "    new_params = optax.apply_updates(params, updates)\n",
    "    new_state = state\n",
    "\n",
    "    return new_params, new_state, new_opt_state, loss"
   ]
  },
  {
   "cell_type": "markdown",
   "id": "d3e88cb1",
   "metadata": {},
   "source": [
    "Batch Creator and test set creator"
   ]
  },
  {
   "cell_type": "code",
   "execution_count": 14,
   "id": "b9981b0d",
   "metadata": {},
   "outputs": [],
   "source": [
    "def split_and_batch_dataset(dataset, batch_size, test_split=0.2, shuffle=True):\n",
    "    \"\"\"\n",
    "    Splits the dataset into training and test sets, then yields batches for each.\n",
    "    Returns: (train_batches, test_batches).\n",
    "    \"\"\"\n",
    "    N = dataset['displacements'].shape[0]\n",
    "    indices = jnp.arange(N)\n",
    "    if shuffle:\n",
    "        indices = jax.random.permutation(jax.random.PRNGKey(0), indices)\n",
    "    split_idx = int(N * (1 - test_split))\n",
    "    train_idx = indices[:split_idx]\n",
    "    test_idx = indices[split_idx:]\n",
    "\n",
    "    def batch_indices(idx):\n",
    "        batch_num = len(idx) // batch_size\n",
    "        for i in range(batch_num):\n",
    "            start = i * batch_size\n",
    "            end = start + batch_size\n",
    "            batch_idx = idx[start:end]\n",
    "            batch = {key: value[batch_idx] for key, value in dataset.items()}\n",
    "            yield batch\n",
    "\n",
    "    train_batches = list(batch_indices(train_idx))\n",
    "    test_batches = list(batch_indices(test_idx))\n",
    "    return train_batches, test_batches"
   ]
  },
  {
   "cell_type": "markdown",
   "id": "8e467e7e",
   "metadata": {},
   "source": [
    "Create test and train batches"
   ]
  },
  {
   "cell_type": "code",
   "execution_count": 15,
   "id": "df10eb84",
   "metadata": {},
   "outputs": [],
   "source": [
    "train_batches, test_batches = split_and_batch_dataset(\n",
    "    Dataset, \n",
    "    Batch_size, \n",
    "    test_split=(1 - train_split), \n",
    "    shuffle=True\n",
    ")"
   ]
  },
  {
   "cell_type": "markdown",
   "id": "df560003",
   "metadata": {},
   "source": [
    "Training Loop"
   ]
  },
  {
   "cell_type": "code",
   "execution_count": null,
   "id": "23fdd255",
   "metadata": {},
   "outputs": [
    {
     "name": "stderr",
     "output_type": "stream",
     "text": [
      "                                                     \r"
     ]
    },
    {
     "ename": "TypeError",
     "evalue": "dot_general requires contracting dimensions to have the same shape, got (912,) and (1824,).",
     "output_type": "error",
     "traceback": [
      "\u001b[31m---------------------------------------------------------------------------\u001b[39m",
      "\u001b[31mTypeError\u001b[39m                                 Traceback (most recent call last)",
      "\u001b[36mCell\u001b[39m\u001b[36m \u001b[39m\u001b[32mIn[16]\u001b[39m\u001b[32m, line 30\u001b[39m\n\u001b[32m     26\u001b[39m batch_count = \u001b[32m0\u001b[39m\n\u001b[32m     28\u001b[39m \u001b[38;5;28;01mfor\u001b[39;00m batch \u001b[38;5;129;01min\u001b[39;00m tqdm(train_batches,desc=\u001b[33mf\u001b[39m\u001b[33m\"\u001b[39m\u001b[33mEpoch \u001b[39m\u001b[38;5;132;01m{\u001b[39;00mepoch\u001b[38;5;132;01m}\u001b[39;00m\u001b[33m/\u001b[39m\u001b[38;5;132;01m{\u001b[39;00mEpochs\u001b[38;5;132;01m}\u001b[39;00m\u001b[33m\"\u001b[39m, leave=\u001b[38;5;28;01mFalse\u001b[39;00m):\n\u001b[32m---> \u001b[39m\u001b[32m30\u001b[39m     new_params, new_state, new_opt_state, loss_batch = training_step(\n\u001b[32m     31\u001b[39m         train_state.params,\n\u001b[32m     32\u001b[39m         train_state.state,\n\u001b[32m     33\u001b[39m         opt_state,\n\u001b[32m     34\u001b[39m         batch,\n\u001b[32m     35\u001b[39m         graph_def=train_state.graph_def,\n\u001b[32m     36\u001b[39m         Dataset_parameters=Dataset_parameters,\n\u001b[32m     37\u001b[39m         alpha=train_state.alpha,\n\u001b[32m     38\u001b[39m         gamma=train_state.gamma,\n\u001b[32m     39\u001b[39m         lambda_=train_state.lambda_\n\u001b[32m     40\u001b[39m     )\n\u001b[32m     42\u001b[39m     opt_state = new_opt_state\n\u001b[32m     43\u001b[39m     train_state.params = new_params\n",
      "\u001b[36mFile \u001b[39m\u001b[32mc:\\Users\\samue\\miniconda3\\envs\\JAX_ML_env_two\\Lib\\site-packages\\flax\\nnx\\transforms\\compilation.py:431\u001b[39m, in \u001b[36mJitWrapped.__call__\u001b[39m\u001b[34m(self, *args, **kwargs)\u001b[39m\n\u001b[32m    429\u001b[39m \u001b[38;5;28;01mwith\u001b[39;00m graph.update_context(\u001b[38;5;28mself\u001b[39m):\n\u001b[32m    430\u001b[39m   pure_args, pure_kwargs = \u001b[38;5;28mself\u001b[39m._get_pure_args_kwargs(args, kwargs)\n\u001b[32m--> \u001b[39m\u001b[32m431\u001b[39m   pure_args_out, pure_kwargs_out, pure_out = \u001b[38;5;28mself\u001b[39m.jitted_fn(\n\u001b[32m    432\u001b[39m     *pure_args, **pure_kwargs\n\u001b[32m    433\u001b[39m   )\n\u001b[32m    434\u001b[39m   out = \u001b[38;5;28mself\u001b[39m._get_non_pure_out(pure_args_out, pure_kwargs_out, pure_out)\n\u001b[32m    435\u001b[39m \u001b[38;5;28;01mreturn\u001b[39;00m out\n",
      "    \u001b[31m[... skipping hidden 14 frame]\u001b[39m\n",
      "\u001b[36mFile \u001b[39m\u001b[32mc:\\Users\\samue\\miniconda3\\envs\\JAX_ML_env_two\\Lib\\site-packages\\flax\\nnx\\transforms\\compilation.py:126\u001b[39m, in \u001b[36mJitFn.__call__\u001b[39m\u001b[34m(self, *pure_args, **pure_kwargs)\u001b[39m\n\u001b[32m    118\u001b[39m \u001b[38;5;28;01mdef\u001b[39;00m\u001b[38;5;250m \u001b[39m\u001b[34m__call__\u001b[39m(\u001b[38;5;28mself\u001b[39m, *pure_args, **pure_kwargs):\n\u001b[32m    119\u001b[39m   args, kwargs = extract.from_tree(\n\u001b[32m    120\u001b[39m     (pure_args, pure_kwargs),\n\u001b[32m    121\u001b[39m     merge_fn=_jit_merge_fn,\n\u001b[32m    122\u001b[39m     ctxtag=\u001b[38;5;28mself\u001b[39m.ctxtag,\n\u001b[32m    123\u001b[39m     is_inner=\u001b[38;5;28;01mTrue\u001b[39;00m,\n\u001b[32m    124\u001b[39m   )\n\u001b[32m--> \u001b[39m\u001b[32m126\u001b[39m   out = \u001b[38;5;28mself\u001b[39m.f(*args, **kwargs)\n\u001b[32m    128\u001b[39m   args_out, kwargs_out = extract.clear_non_graph_nodes((args, kwargs))\n\u001b[32m    129\u001b[39m   pure_args_out, pure_kwargs_out, pure_out = extract.to_tree(\n\u001b[32m    130\u001b[39m     (args_out, kwargs_out, out),\n\u001b[32m    131\u001b[39m     prefix=(\u001b[38;5;28mself\u001b[39m.in_shardings, \u001b[38;5;28mself\u001b[39m.kwarg_shardings, \u001b[38;5;28mself\u001b[39m.out_shardings),\n\u001b[32m    132\u001b[39m     ctxtag=\u001b[38;5;28mself\u001b[39m.ctxtag,\n\u001b[32m    133\u001b[39m     split_fn=_jit_split_fn,\n\u001b[32m    134\u001b[39m   )\n",
      "\u001b[36mCell\u001b[39m\u001b[36m \u001b[39m\u001b[32mIn[13]\u001b[39m\u001b[32m, line 22\u001b[39m, in \u001b[36mtraining_step\u001b[39m\u001b[34m(params, state, opt_state, batch, graph_def, Dataset_parameters, alpha, gamma, lambda_)\u001b[39m\n\u001b[32m     10\u001b[39m     loss = loss_fn(\n\u001b[32m     11\u001b[39m         disp_in,\n\u001b[32m     12\u001b[39m         e_target,\n\u001b[32m   (...)\u001b[39m\u001b[32m     18\u001b[39m         lam=lambda_\n\u001b[32m     19\u001b[39m     )\n\u001b[32m     20\u001b[39m     \u001b[38;5;28;01mreturn\u001b[39;00m loss\n\u001b[32m---> \u001b[39m\u001b[32m22\u001b[39m loss, grads = nnx.value_and_grad(wrapped_loss_fn, argnums=\u001b[32m0\u001b[39m)(params, state) \n\u001b[32m     23\u001b[39m updates, new_opt_state = optimiser.update(grads, opt_state, params)\n\u001b[32m     24\u001b[39m new_params = optax.apply_updates(params, updates)\n",
      "\u001b[36mFile \u001b[39m\u001b[32mc:\\Users\\samue\\miniconda3\\envs\\JAX_ML_env_two\\Lib\\site-packages\\flax\\nnx\\graph.py:2051\u001b[39m, in \u001b[36mUpdateContextManager.__call__.<locals>.update_context_manager_wrapper\u001b[39m\u001b[34m(*args, **kwargs)\u001b[39m\n\u001b[32m   2048\u001b[39m \u001b[38;5;129m@functools\u001b[39m.wraps(f)\n\u001b[32m   2049\u001b[39m \u001b[38;5;28;01mdef\u001b[39;00m\u001b[38;5;250m \u001b[39m\u001b[34mupdate_context_manager_wrapper\u001b[39m(*args, **kwargs):\n\u001b[32m   2050\u001b[39m   \u001b[38;5;28;01mwith\u001b[39;00m \u001b[38;5;28mself\u001b[39m:\n\u001b[32m-> \u001b[39m\u001b[32m2051\u001b[39m     \u001b[38;5;28;01mreturn\u001b[39;00m f(*args, **kwargs)\n",
      "\u001b[36mFile \u001b[39m\u001b[32mc:\\Users\\samue\\miniconda3\\envs\\JAX_ML_env_two\\Lib\\site-packages\\flax\\nnx\\transforms\\autodiff.py:163\u001b[39m, in \u001b[36m_grad_general.<locals>.grad_wrapper\u001b[39m\u001b[34m(***failed resolving arguments***)\u001b[39m\n\u001b[32m    151\u001b[39m pure_args = extract.to_tree(\n\u001b[32m    152\u001b[39m   args, prefix=arg_filters, split_fn=_grad_split_fn, ctxtag=\u001b[33m'\u001b[39m\u001b[33mgrad\u001b[39m\u001b[33m'\u001b[39m\n\u001b[32m    153\u001b[39m )\n\u001b[32m    155\u001b[39m gradded_fn = transform(\n\u001b[32m    156\u001b[39m   GradFn(f, has_aux, nondiff_states),\n\u001b[32m    157\u001b[39m   argnums=jax_argnums,\n\u001b[32m   (...)\u001b[39m\u001b[32m    160\u001b[39m   allow_int=allow_int,\n\u001b[32m    161\u001b[39m )\n\u001b[32m--> \u001b[39m\u001b[32m163\u001b[39m fn_out = gradded_fn(*pure_args)\n\u001b[32m    165\u001b[39m \u001b[38;5;28;01mdef\u001b[39;00m\u001b[38;5;250m \u001b[39m\u001b[34mprocess_grads\u001b[39m(grads):\n\u001b[32m    166\u001b[39m   \u001b[38;5;28;01mreturn\u001b[39;00m jax.tree.map(\n\u001b[32m    167\u001b[39m     \u001b[38;5;28;01mlambda\u001b[39;00m x: x.state \u001b[38;5;28;01mif\u001b[39;00m \u001b[38;5;28misinstance\u001b[39m(x, extract.NodeStates) \u001b[38;5;28;01melse\u001b[39;00m x,\n\u001b[32m    168\u001b[39m     grads,\n\u001b[32m    169\u001b[39m     is_leaf=\u001b[38;5;28;01mlambda\u001b[39;00m x: \u001b[38;5;28misinstance\u001b[39m(x, extract.NodeStates),\n\u001b[32m    170\u001b[39m   )\n",
      "    \u001b[31m[... skipping hidden 16 frame]\u001b[39m\n",
      "\u001b[36mFile \u001b[39m\u001b[32mc:\\Users\\samue\\miniconda3\\envs\\JAX_ML_env_two\\Lib\\site-packages\\flax\\nnx\\transforms\\autodiff.py:88\u001b[39m, in \u001b[36mGradFn.__call__\u001b[39m\u001b[34m(self, *pure_args)\u001b[39m\n\u001b[32m     82\u001b[39m     \u001b[38;5;28;01mreturn\u001b[39;00m ctx.merge(value.graphdef, value.state, nondiff)\n\u001b[32m     84\u001b[39m args = extract.from_tree(\n\u001b[32m     85\u001b[39m   pure_args, merge_fn=_grad_merge_fn, ctxtag=\u001b[33m'\u001b[39m\u001b[33mgrad\u001b[39m\u001b[33m'\u001b[39m, is_inner=\u001b[38;5;28;01mTrue\u001b[39;00m\n\u001b[32m     86\u001b[39m )\n\u001b[32m---> \u001b[39m\u001b[32m88\u001b[39m out = \u001b[38;5;28mself\u001b[39m.f(*args)\n\u001b[32m     90\u001b[39m args_out = extract.clear_non_graph_nodes(args)\n\u001b[32m     91\u001b[39m pure_args_out, pure_out = extract.to_tree((args_out, out), ctxtag=\u001b[33m'\u001b[39m\u001b[33mgrad\u001b[39m\u001b[33m'\u001b[39m)\n",
      "\u001b[36mCell\u001b[39m\u001b[36m \u001b[39m\u001b[32mIn[13]\u001b[39m\u001b[32m, line 10\u001b[39m, in \u001b[36mtraining_step.<locals>.wrapped_loss_fn\u001b[39m\u001b[34m(params_, state_)\u001b[39m\n\u001b[32m      8\u001b[39m \u001b[38;5;28;01mdef\u001b[39;00m\u001b[38;5;250m \u001b[39m\u001b[34mwrapped_loss_fn\u001b[39m(params_,state_):\n\u001b[32m      9\u001b[39m     Model = nnx.merge(graph_def,params_,state_)\n\u001b[32m---> \u001b[39m\u001b[32m10\u001b[39m     loss = loss_fn(\n\u001b[32m     11\u001b[39m         disp_in,\n\u001b[32m     12\u001b[39m         e_target,\n\u001b[32m     13\u001b[39m         e_prime_target,\n\u001b[32m     14\u001b[39m         Model=Model,\n\u001b[32m     15\u001b[39m         Dataset_parameters=Dataset_parameters,\n\u001b[32m     16\u001b[39m         alpha=alpha,\n\u001b[32m     17\u001b[39m         gamma=gamma,\n\u001b[32m     18\u001b[39m         lam=lambda_\n\u001b[32m     19\u001b[39m     )\n\u001b[32m     20\u001b[39m     \u001b[38;5;28;01mreturn\u001b[39;00m loss\n",
      "\u001b[36mCell\u001b[39m\u001b[36m \u001b[39m\u001b[32mIn[11]\u001b[39m\u001b[32m, line 10\u001b[39m, in \u001b[36mloss_fn\u001b[39m\u001b[34m(x, target_e, target_e_prime, Model, Dataset_parameters, alpha, gamma, lam)\u001b[39m\n\u001b[32m      3\u001b[39m \u001b[38;5;28;01mdef\u001b[39;00m\u001b[38;5;250m \u001b[39m\u001b[34mloss_fn\u001b[39m(x: jax.Array, target_e, target_e_prime,*, Model, Dataset_parameters, alpha, gamma, lam): \n\u001b[32m      4\u001b[39m \u001b[38;5;250m    \u001b[39m\u001b[33;03m\"\"\"\u001b[39;00m\n\u001b[32m      5\u001b[39m \u001b[33;03m    Calculates the loss of a model, works to minimise the mean square error of both \u001b[39;00m\n\u001b[32m      6\u001b[39m \u001b[33;03m    the strain energy prediction and the strain energy derivative prediction,\u001b[39;00m\n\u001b[32m      7\u001b[39m \u001b[33;03m    whilst forcing the function through zero.\u001b[39;00m\n\u001b[32m      8\u001b[39m \u001b[33;03m    \"\"\"\u001b[39;00m\n\u001b[32m---> \u001b[39m\u001b[32m10\u001b[39m     prediction_e, prediction_e_prime = Model(x, Dataset_parameters)\n\u001b[32m     11\u001b[39m     loss_e = jnp.mean((prediction_e - target_e)**\u001b[32m2\u001b[39m)\n\u001b[32m     12\u001b[39m     loss_e_prime = jnp.mean((prediction_e_prime - target_e_prime)**\u001b[32m2\u001b[39m)\n",
      "\u001b[36mCell\u001b[39m\u001b[36m \u001b[39m\u001b[32mIn[10]\u001b[39m\u001b[32m, line 24\u001b[39m, in \u001b[36menergy_prediction.__call__\u001b[39m\u001b[34m(self, x_in, dataset_params)\u001b[39m\n\u001b[32m     22\u001b[39m \u001b[38;5;28;01mdef\u001b[39;00m\u001b[38;5;250m \u001b[39m\u001b[34m__call__\u001b[39m(\u001b[38;5;28mself\u001b[39m,x_in,dataset_params):\n\u001b[32m---> \u001b[39m\u001b[32m24\u001b[39m     e = jax.vmap(\u001b[38;5;28mself\u001b[39m.forwardPass)(x_in)\n\u001b[32m     25\u001b[39m     dedx = jax.vmap(jax.grad(\u001b[38;5;28mself\u001b[39m.forwardPass))\n\u001b[32m     26\u001b[39m     e_prime_raw = dedx(x_in)\n",
      "    \u001b[31m[... skipping hidden 7 frame]\u001b[39m\n",
      "\u001b[36mCell\u001b[39m\u001b[36m \u001b[39m\u001b[32mIn[10]\u001b[39m\u001b[32m, line 15\u001b[39m, in \u001b[36menergy_prediction.forwardPass\u001b[39m\u001b[34m(self, x)\u001b[39m\n\u001b[32m     14\u001b[39m \u001b[38;5;28;01mdef\u001b[39;00m\u001b[38;5;250m \u001b[39m\u001b[34mforwardPass\u001b[39m(\u001b[38;5;28mself\u001b[39m,x):\n\u001b[32m---> \u001b[39m\u001b[32m15\u001b[39m         x = \u001b[38;5;28mself\u001b[39m.layer1(x)\n\u001b[32m     16\u001b[39m         x = \u001b[38;5;28mself\u001b[39m.silu(x)\n\u001b[32m     17\u001b[39m         x = \u001b[38;5;28mself\u001b[39m.layer2(x)\n",
      "\u001b[36mCell\u001b[39m\u001b[36m \u001b[39m\u001b[32mIn[9]\u001b[39m\u001b[32m, line 11\u001b[39m, in \u001b[36mLinear.__call__\u001b[39m\u001b[34m(self, x)\u001b[39m\n\u001b[32m     10\u001b[39m \u001b[38;5;28;01mdef\u001b[39;00m\u001b[38;5;250m \u001b[39m\u001b[34m__call__\u001b[39m(\u001b[38;5;28mself\u001b[39m,x: jax.Array):\n\u001b[32m---> \u001b[39m\u001b[32m11\u001b[39m     \u001b[38;5;28;01mreturn\u001b[39;00m(x @ \u001b[38;5;28mself\u001b[39m.W + \u001b[38;5;28mself\u001b[39m.b)\n",
      "\u001b[36mFile \u001b[39m\u001b[32mc:\\Users\\samue\\miniconda3\\envs\\JAX_ML_env_two\\Lib\\site-packages\\jax\\_src\\numpy\\array_methods.py:1083\u001b[39m, in \u001b[36m_forward_operator_to_aval.<locals>.op\u001b[39m\u001b[34m(self, *args)\u001b[39m\n\u001b[32m   1082\u001b[39m \u001b[38;5;28;01mdef\u001b[39;00m\u001b[38;5;250m \u001b[39m\u001b[34mop\u001b[39m(\u001b[38;5;28mself\u001b[39m, *args):\n\u001b[32m-> \u001b[39m\u001b[32m1083\u001b[39m   \u001b[38;5;28;01mreturn\u001b[39;00m \u001b[38;5;28mgetattr\u001b[39m(\u001b[38;5;28mself\u001b[39m.aval, \u001b[33mf\u001b[39m\u001b[33m\"\u001b[39m\u001b[33m_\u001b[39m\u001b[38;5;132;01m{\u001b[39;00mname\u001b[38;5;132;01m}\u001b[39;00m\u001b[33m\"\u001b[39m)(\u001b[38;5;28mself\u001b[39m, *args)\n",
      "\u001b[36mFile \u001b[39m\u001b[32mc:\\Users\\samue\\miniconda3\\envs\\JAX_ML_env_two\\Lib\\site-packages\\jax\\_src\\numpy\\array_methods.py:583\u001b[39m, in \u001b[36m_defer_to_unrecognized_arg.<locals>.deferring_binary_op\u001b[39m\u001b[34m(self, other)\u001b[39m\n\u001b[32m    581\u001b[39m args = (other, \u001b[38;5;28mself\u001b[39m) \u001b[38;5;28;01mif\u001b[39;00m swap \u001b[38;5;28;01melse\u001b[39;00m (\u001b[38;5;28mself\u001b[39m, other)\n\u001b[32m    582\u001b[39m \u001b[38;5;28;01mif\u001b[39;00m \u001b[38;5;28misinstance\u001b[39m(other, _accepted_binop_types):\n\u001b[32m--> \u001b[39m\u001b[32m583\u001b[39m   \u001b[38;5;28;01mreturn\u001b[39;00m binary_op(*args)\n\u001b[32m    584\u001b[39m \u001b[38;5;66;03m# Note: don't use isinstance here, because we don't want to raise for\u001b[39;00m\n\u001b[32m    585\u001b[39m \u001b[38;5;66;03m# subclasses, e.g. NamedTuple objects that may override operators.\u001b[39;00m\n\u001b[32m    586\u001b[39m \u001b[38;5;28;01mif\u001b[39;00m \u001b[38;5;28mtype\u001b[39m(other) \u001b[38;5;129;01min\u001b[39;00m _rejected_binop_types:\n",
      "    \u001b[31m[... skipping hidden 15 frame]\u001b[39m\n",
      "\u001b[36mFile \u001b[39m\u001b[32mc:\\Users\\samue\\miniconda3\\envs\\JAX_ML_env_two\\Lib\\site-packages\\jax\\_src\\numpy\\tensor_contractions.py:245\u001b[39m, in \u001b[36mmatmul\u001b[39m\u001b[34m(a, b, precision, preferred_element_type)\u001b[39m\n\u001b[32m    243\u001b[39m a = lax.squeeze(a, \u001b[38;5;28mtuple\u001b[39m(a_squeeze))\n\u001b[32m    244\u001b[39m b = lax.squeeze(b, \u001b[38;5;28mtuple\u001b[39m(b_squeeze))\n\u001b[32m--> \u001b[39m\u001b[32m245\u001b[39m out = lax.dot_general(\n\u001b[32m    246\u001b[39m   a, b, (((np.ndim(a) - \u001b[32m1\u001b[39m,), (np.ndim(b) - \u001b[32m1\u001b[39m - b_is_mat,)), (a_batch, b_batch)),\n\u001b[32m    247\u001b[39m   precision=precision, preferred_element_type=preferred_element_type)\n\u001b[32m    248\u001b[39m result = lax.transpose(out, perm)\n\u001b[32m    249\u001b[39m \u001b[38;5;28;01mreturn\u001b[39;00m lax_internal._convert_element_type(result, preferred_element_type, output_weak_type)\n",
      "    \u001b[31m[... skipping hidden 9 frame]\u001b[39m\n",
      "\u001b[36mFile \u001b[39m\u001b[32mc:\\Users\\samue\\miniconda3\\envs\\JAX_ML_env_two\\Lib\\site-packages\\jax\\_src\\lax\\lax.py:5216\u001b[39m, in \u001b[36m_dot_general_shape_rule\u001b[39m\u001b[34m(lhs, rhs, dimension_numbers, precision, preferred_element_type, out_sharding)\u001b[39m\n\u001b[32m   5213\u001b[39m \u001b[38;5;28;01mif\u001b[39;00m \u001b[38;5;129;01mnot\u001b[39;00m core.definitely_equal_shape(lhs_contracting_shape, rhs_contracting_shape):\n\u001b[32m   5214\u001b[39m   msg = (\u001b[33m\"\u001b[39m\u001b[33mdot_general requires contracting dimensions to have the same \u001b[39m\u001b[33m\"\u001b[39m\n\u001b[32m   5215\u001b[39m          \u001b[33m\"\u001b[39m\u001b[33mshape, got \u001b[39m\u001b[38;5;132;01m{}\u001b[39;00m\u001b[33m and \u001b[39m\u001b[38;5;132;01m{}\u001b[39;00m\u001b[33m.\u001b[39m\u001b[33m\"\u001b[39m)\n\u001b[32m-> \u001b[39m\u001b[32m5216\u001b[39m   \u001b[38;5;28;01mraise\u001b[39;00m \u001b[38;5;167;01mTypeError\u001b[39;00m(msg.format(lhs_contracting_shape, rhs_contracting_shape))\n\u001b[32m   5218\u001b[39m \u001b[38;5;28;01mreturn\u001b[39;00m _dot_general_shape_computation(lhs.shape, rhs.shape, dimension_numbers)\n",
      "\u001b[31mTypeError\u001b[39m: dot_general requires contracting dimensions to have the same shape, got (912,) and (1824,)."
     ]
    }
   ],
   "source": [
    "# Instantiate energy prediction NN\n",
    "Model = energy_prediction(\n",
    "    dim_in=input_dataset.shape[1], \n",
    "    dim_hidden1_in=128,\n",
    "    dim_hidden2_in=64, \n",
    "    dim_out=1,\n",
    "    rngs=rngs\n",
    ")\n",
    "\n",
    "graph_def,params,state = nnx.split(Model,nnx.Param,nnx.State)\n",
    "opt_state = optimiser.init(params)\n",
    "\n",
    "train_state = TrainState(\n",
    "    graph_def=graph_def,\n",
    "    params=params,\n",
    "    state=state,\n",
    "    alpha=alpha,\n",
    "    gamma=gamma,\n",
    "    lambda_=lambda_\n",
    "    )\n",
    "\n",
    "loss_record = []\n",
    "\n",
    "for epoch in range(Epochs):\n",
    "    running_loss = 0.0\n",
    "    batch_count = 0\n",
    "\n",
    "    for batch in tqdm(train_batches,desc=f\"Epoch {epoch}/{Epochs}\", leave=False):\n",
    "        \n",
    "        new_params, new_state, new_opt_state, loss_batch = training_step(\n",
    "            train_state.params,\n",
    "            train_state.state,\n",
    "            opt_state,\n",
    "            batch,\n",
    "            graph_def=train_state.graph_def,\n",
    "            Dataset_parameters=Dataset_parameters,\n",
    "            alpha=train_state.alpha,\n",
    "            gamma=train_state.gamma,\n",
    "            lambda_=train_state.lambda_\n",
    "        )\n",
    "\n",
    "        opt_state = new_opt_state\n",
    "        train_state.params = new_params\n",
    "        train_state.state = new_state\n",
    "\n",
    "        running_loss += loss_batch\n",
    "        batch_count += 1\n",
    "    \n",
    "    avg_loss = avg_loss = running_loss / batch_count if batch_count > 0 else 0.0\n",
    "    loss_record.append(avg_loss)"
   ]
  },
  {
   "cell_type": "markdown",
   "id": "49e850b4",
   "metadata": {},
   "source": [
    "Final model storage"
   ]
  },
  {
   "cell_type": "code",
   "execution_count": null,
   "id": "f0738a8a",
   "metadata": {},
   "outputs": [],
   "source": [
    "@nnx.dataclass\n",
    "class ModelData(nnx.Object):\n",
    "    graph_def: Any\n",
    "    params: Any\n",
    "    state: Any\n",
    "    Dataset_parameters: Any\n",
    "    trained: bool"
   ]
  },
  {
   "cell_type": "markdown",
   "id": "6f62b354",
   "metadata": {},
   "source": [
    "Create Final model instance"
   ]
  },
  {
   "cell_type": "code",
   "execution_count": null,
   "id": "78303138",
   "metadata": {},
   "outputs": [],
   "source": [
    "graph_def_trained = train_state.graph_def\n",
    "params_trained = train_state.params\n",
    "state_trained = train_state.state\n",
    "\n",
    "model_data = ModelData(\n",
    "    graph_def=graph_def_trained,\n",
    "    params=params_trained,\n",
    "    state=state_trained,\n",
    "    Dataset_parameters=Dataset_parameters,\n",
    "    trained=True\n",
    ")"
   ]
  },
  {
   "cell_type": "markdown",
   "id": "1bc294f4",
   "metadata": {},
   "source": [
    "Plots"
   ]
  },
  {
   "cell_type": "code",
   "execution_count": null,
   "id": "80f93141",
   "metadata": {},
   "outputs": [
    {
     "data": {
      "text/plain": [
       "[<matplotlib.lines.Line2D at 0x12654570e10>]"
      ]
     },
     "execution_count": 100,
     "metadata": {},
     "output_type": "execute_result"
    },
    {
     "data": {
      "image/png": "[encoded data removed]",
      "text/plain": [
       "<Figure size 640x480 with 1 Axes>"
      ]
     },
     "metadata": {},
     "output_type": "display_data"
    }
   ],
   "source": [
    "plt.plot(jnp.log10(jnp.array(loss_record)))\n",
    "#plt.plot(loss_record)"
   ]
  },
  {
   "cell_type": "markdown",
   "id": "61baeb33",
   "metadata": {},
   "source": [
    "Model Testing"
   ]
  },
  {
   "cell_type": "code",
   "execution_count": null,
   "id": "1645b1ff",
   "metadata": {},
   "outputs": [],
   "source": [
    "def avg_abs_error(pred,target):\n",
    "    n1 = pred.shape[0]\n",
    "    n2 = target.shape[0]\n",
    "\n",
    "    if n1 != n2:\n",
    "        raise(\"Error: inputs must have matching shape\")\n",
    "    \n",
    "    return (jnp.sum(jnp.abs(pred - target)) / n1)\n",
    "\n",
    "def test_model(model_data, test_batches*,loss_fn, alpha, gamma, lambda_):\n",
    "\n",
    "    trained = model_data.trained\n",
    "    if not trained:\n",
    "        raise TypeError(\"Model is untrained, please train the model before evaluation\")\n",
    "\n",
    "    test_graph_def = model_data.graph_def\n",
    "    test_params = model_data.params\n",
    "    test_state = model_data.state\n",
    "\n",
    "    test_model = nnx.merge(test_graph_def,test_params,test_state)\n",
    "\n",
    "    loss_test = 0.0\n",
    "    test_count = 0\n",
    "\n",
    "    for batch in test_batches:\n",
    "        displacements_test = batch['displacements']\n",
    "        e_target_test = batch['target_e']\n",
    "        e_prime_target_test = batch['target_e_prime']\n",
    "\n",
    "        e_target_test = unscale_data(e_target_test,data_params=model_data.Dataset_parameters['target_e'])\n",
    "        e_prime_target_test = unscale_data(e_prime_target_test,data_params=model_data.Dataset_parameters['target_e_prime'])\n",
    "\n",
    "        e_pred_test, e_prime_pred_test = test_model(displacements_test,data_params=model_data.Dataset_parameters['displacements'])\n",
    "\n",
    "        #displacements_test = unscale_data(displacements_test,data_params=Dataset_parameters['displacements'])\n",
    "        e_pred_test = unscale_data(e_pred_test,data_params=model_data.Dataset_parameters['target_e'])\n",
    "        e_prime_pred_test = unscale_data(e_prime_pred_test,data_params=model_data.Dataset_parameters['target_e_prime'])\n",
    "\n",
    "        batch_loss_test = loss_fn(\n",
    "            displacements_test,\n",
    "            e_target_test,\n",
    "            e_prime_target_test,\n",
    "            Model=test_model,\n",
    "            Dataset_parameters=model_data.Dataset_parameters,\n",
    "            alpha=alpha,\n",
    "            gamma=gamma,\n",
    "            lam=lambda_\n",
    "        )\n",
    "\n",
    "        loss_test += batch_loss_test\n",
    "        test_count += 1\n",
    "\n",
    "        avg_e_abs_error = avg_abs_error(e_pred_test,e_target_test)\n",
    "        avg_e_prime_abs_error = avg_abs_error(e_prime_pred_test,e_prime_target_test)\n",
    "\n",
    "    avg_loss_test = loss_test / test_count\n",
    "    zero_val_e, _ = test_model(jnp.zeros_like(test_batches[0]['displacements']), data_params=model_data.Dataset_parameters['target_e'])\n",
    "    test_e_zero_error = avg_abs_error(zero_val_e, jnp.zeros_like(zero_val_e))\n",
    "\n",
    "    return avg_loss_test, avg_e_abs_error, avg_e_prime_abs_error, test_e_zero_error\n",
    "\n"
   ]
  },
  {
   "cell_type": "markdown",
   "id": "18fe3504",
   "metadata": {},
   "source": [
    "Test"
   ]
  },
  {
   "cell_type": "code",
   "execution_count": null,
   "id": "1486d309",
   "metadata": {},
   "outputs": [
    {
     "name": "stdout",
     "output_type": "stream",
     "text": [
      "The average absolute error for e is 109.0950698852539 in the test set\n",
      "the average absolute error for e prime is 18414306.0 in the test set\n",
      "the absolute zero error for e is 0.21817588806152344 in the test set\n",
      "The average loss across the training set is 248372048.0\n",
      "The average absolute error for e is 80.87535858154297 in the training set\n",
      "the average absolute error for e prime is 14059826.0 in the training set\n",
      "the absolute zero error for e is 0.21817588806152344 in the training set\n"
     ]
    }
   ],
   "source": [
    "avg_loss_test, avg_e_abs_error, avg_e_prime_abs_error, test_e_zero_error = test_model(model_data,test_batches,loss_fn=loss_fn,alpha=alpha,gamma=gamma,lambda_=lambda_)\n",
    "avg_loss_training, avg_e_abs_error_training, avg_e_prime_abs_error_training, test_e_zero_error_training = test_model(model_data,train_batches,loss_fn=loss_fn,alpha=alpha,gamma=gamma,lambda_=lambda_)\n",
    " \n",
    "print(f\"The average absolute error for e is {avg_e_abs_error} in the test set\") \n",
    "print(f\"the average absolute error for e prime is {avg_e_prime_abs_error} in the test set\") \n",
    "print(f\"the absolute zero error for e is {test_e_zero_error} in the test set\") \n",
    "\n",
    "print(f\"The average loss across the training set is {avg_loss_test}\")\n",
    "print(f\"The average absolute error for e is {avg_e_abs_error_training} in the training set\")\n",
    "print(f\"the average absolute error for e prime is {avg_e_prime_abs_error_training} in the training set\")  \n",
    "print(f\"the absolute zero error for e is {test_e_zero_error_training} in the training set\")"
   ]
  }
 ],
 "metadata": {
  "kernelspec": {
   "display_name": "JAX_ML_env_two",
   "language": "python",
   "name": "python3"
  },
  "language_info": {
   "codemirror_mode": {
    "name": "ipython",
    "version": 3
   },
   "file_extension": ".py",
   "mimetype": "text/x-python",
   "name": "python",
   "nbconvert_exporter": "python",
   "pygments_lexer": "ipython3",
   "version": "3.13.5"
  }
 },
 "nbformat": 4,
 "nbformat_minor": 5
}
