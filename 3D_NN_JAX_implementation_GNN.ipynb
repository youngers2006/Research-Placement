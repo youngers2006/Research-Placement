{
 "cells": [
  {
   "cell_type": "markdown",
   "id": "183dd517",
   "metadata": {},
   "source": [
    "Import Libraries"
   ]
  },
  {
   "cell_type": "code",
   "execution_count": 1,
   "id": "19a8aa1f",
   "metadata": {},
   "outputs": [],
   "source": [
    "import jax\n",
    "import jax.numpy as jnp\n",
    "import jax.nn as jnn\n",
    "from flax import nnx\n",
    "import optax\n",
    "import matplotlib.pyplot as plt\n",
    "from tqdm import tqdm\n",
    "from typing import Any\n",
    "import jraph"
   ]
  },
  {
   "cell_type": "markdown",
   "id": "47b5385e",
   "metadata": {},
   "source": [
    "Unpickling the data and importing the mesh"
   ]
  },
  {
   "cell_type": "markdown",
   "id": "c9e91678",
   "metadata": {},
   "source": [
    "Create graph from mesh function"
   ]
  },
  {
   "cell_type": "code",
   "execution_count": null,
   "id": "5367e624",
   "metadata": {},
   "outputs": [],
   "source": [
    "def build_graph() -> jraph.GraphsTuple:\n",
    "    graph = jraph\n",
    "    return graph"
   ]
  },
  {
   "cell_type": "markdown",
   "id": "e1c22883",
   "metadata": {},
   "source": [
    "Activation Functions"
   ]
  },
  {
   "cell_type": "code",
   "execution_count": null,
   "id": "2633a207",
   "metadata": {},
   "outputs": [],
   "source": [
    "def Silu(x: nnx.Array) -> nnx.Array:\n",
    "    return x * nnx.sigmoid(x)\n",
    "\n",
    "def Leaky_Relu(x: nnx.Array) -> nnx.Array:\n",
    "    return nnx.leaky_relu(x)\n",
    "\n",
    "def SoftMax(x: nnx.Array, axis: int) -> nnx.Array:\n",
    "    return nnx.softmax(x, axis=axis)"
   ]
  },
  {
   "cell_type": "markdown",
   "id": "f255c09c",
   "metadata": {},
   "source": [
    "Linear layer"
   ]
  },
  {
   "cell_type": "code",
   "execution_count": null,
   "id": "399db1ac",
   "metadata": {},
   "outputs": [],
   "source": [
    "class Linear(nnx.Module):\n",
    "    \"\"\"\n",
    "    Applies trainable linear transformation to input vector x\n",
    "    Inputs: x: din dimensional row vectors as matrix\n",
    "    Return: Transformed dout dimensional vector\n",
    "    Trainable Params: w: d dimensional row vector, b: d dimensional row vector\n",
    "    \"\"\"\n",
    "    def __init__(self, din: int, dout: int, rngs: nnx.Rngs):\n",
    "        self.din, self.dout = din, dout\n",
    "        key = rngs.params()\n",
    "        initialiser = nnx.initializers.lecun_normal()\n",
    "        self.w = nnx.Param(initialiser(key=key, shape=(din,dout)))\n",
    "        self.b = nnx.Param(initialiser(dout,))\n",
    "    \n",
    "    def __call__(self, x: jnp.Array):\n",
    "        return x @ self.w + self.b"
   ]
  },
  {
   "cell_type": "markdown",
   "id": "8615042f",
   "metadata": {},
   "source": [
    "GAT Layer"
   ]
  },
  {
   "cell_type": "code",
   "execution_count": null,
   "id": "b1030d7d",
   "metadata": {},
   "outputs": [],
   "source": [
    "class GAT(nnx.Module):\n",
    "    def __init__(self, in_features, out_features,*,rngs):\n",
    "        key = rngs.params()\n",
    "        initialiser = nnx.initializers.lecun_normal()\n",
    "        self.W = nnx.Param(initialiser(key=key, shape=(in_features, out_features)))\n",
    "        self.a = nnx.Param(initialiser(key=key, shape=(2 * out_features, 1)))\n",
    "\n",
    "    def __call__(self, graph: jraph.GraphsTuple) -> jraph.GraphsTuple:\n",
    "\n",
    "        if graph.n_node is None:\n",
    "            raise ValueError(\"GAT requires nodes to have features\")\n",
    "        \n",
    "        tranformed_nodes = graph.nodes @ self.w\n",
    "\n",
    "        \n"
   ]
  },
  {
   "cell_type": "markdown",
   "id": "314af953",
   "metadata": {},
   "source": [
    "Model"
   ]
  },
  {
   "cell_type": "code",
   "execution_count": null,
   "id": "95b1149f",
   "metadata": {},
   "outputs": [],
   "source": [
    "class GNN(nnx.Module):\n",
    "    def __init__(self, din, embedding_dim, output_dim, rngs):\n",
    "        self.embedding_layer = Linear(din, embedding_dim, rngs=rngs)\n",
    "        self.decoding_layer = Linear(embedding_dim, output_dim, rngs=rngs)\n",
    "    \n",
    "    def embedder(self, x):\n",
    "        return self.embedding_layer(x)\n",
    "    \n",
    "    def decoder(self, h):\n",
    "        return self.decoding_layer(h)\n",
    "    \n",
    "    def forward_pass(self,x):\n",
    "        x = self.embedder(x)\n",
    "        return None\n",
    "    \n",
    "    def __call__():\n"
   ]
  },
  {
   "cell_type": "markdown",
   "id": "f8161a58",
   "metadata": {},
   "source": []
  },
  {
   "cell_type": "code",
   "execution_count": null,
   "id": "44bb9034",
   "metadata": {},
   "outputs": [],
   "source": []
  }
 ],
 "metadata": {
  "kernelspec": {
   "display_name": "JAX_ML_env_two",
   "language": "python",
   "name": "python3"
  },
  "language_info": {
   "codemirror_mode": {
    "name": "ipython",
    "version": 3
   },
   "file_extension": ".py",
   "mimetype": "text/x-python",
   "name": "python",
   "nbconvert_exporter": "python",
   "pygments_lexer": "ipython3",
   "version": "3.13.5"
  }
 },
 "nbformat": 4,
 "nbformat_minor": 5
}
