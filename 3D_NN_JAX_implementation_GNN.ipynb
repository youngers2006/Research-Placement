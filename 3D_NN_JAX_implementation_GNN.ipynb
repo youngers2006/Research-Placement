{
 "cells": [
  {
   "cell_type": "markdown",
   "id": "183dd517",
   "metadata": {},
   "source": [
    "Import Libraries"
   ]
  },
  {
   "cell_type": "code",
   "execution_count": null,
   "id": "19a8aa1f",
   "metadata": {},
   "outputs": [],
   "source": [
    "import jax\n",
    "import jax.numpy as jnp\n",
    "import jax.nn as jnn\n",
    "from flax import nnx\n",
    "import optax\n",
    "import matplotlib.pyplot as plt\n",
    "from tqdm import tqdm\n",
    "from typing import Any\n",
    "import jraph\n",
    "from itertools import combinations"
   ]
  },
  {
   "cell_type": "markdown",
   "id": "98d6cc16",
   "metadata": {},
   "source": [
    "RNG key"
   ]
  },
  {
   "cell_type": "code",
   "execution_count": null,
   "id": "1f0b7130",
   "metadata": {},
   "outputs": [],
   "source": [
    "seed = 42 # This can be changed but is here to make the results easy to reproduce\n",
    "base_key = jax.random.PRNGKey(seed)\n",
    "rngs = nnx.Rngs(base_key)"
   ]
  },
  {
   "cell_type": "markdown",
   "id": "47b5385e",
   "metadata": {},
   "source": [
    "import data"
   ]
  },
  {
   "cell_type": "code",
   "execution_count": null,
   "id": "ab417de4",
   "metadata": {},
   "outputs": [],
   "source": []
  },
  {
   "cell_type": "markdown",
   "id": "7a000bf0",
   "metadata": {},
   "source": [
    "Standardising functions"
   ]
  },
  {
   "cell_type": "code",
   "execution_count": null,
   "id": "b74ecfa8",
   "metadata": {},
   "outputs": [],
   "source": [
    "def mean_and_std_dev(data,*,train_split):\n",
    "    split_idx = int(data.shape[0] * train_split)\n",
    "    train_data = data[:split_idx]\n",
    "    \n",
    "    mean = jnp.mean(train_data, axis=0)\n",
    "    std_dev = jnp.std(train_data, axis=0)\n",
    "    return {'mean':mean, 'std_dev':std_dev}\n",
    "\n",
    "def scale_data(data,*, data_params):\n",
    "    return (data - data_params['mean']) / data_params['std_dev']\n",
    "    \n",
    "\n",
    "def unscale_data(data,*,data_params):\n",
    "    return (data * data_params['std_dev']) + data_params['mean']"
   ]
  },
  {
   "cell_type": "markdown",
   "id": "c9e91678",
   "metadata": {},
   "source": [
    "Create graph from mesh function"
   ]
  },
  {
   "cell_type": "code",
   "execution_count": null,
   "id": "5367e624",
   "metadata": {},
   "outputs": [],
   "source": [
    "def Get_known(cells, points):\n",
    "    # The faces of a cube based on its points\n",
    "    faces_of_cube = [[0, 1, 5, 4], [1, 2, 6, 5], [2, 3, 7, 6],\n",
    "                       [3, 0, 4, 7], [0, 1, 2, 3], [4, 5, 6, 7]]\n",
    "    \n",
    "    # construct faces\n",
    "    faces = []\n",
    "    for cell in cells:\n",
    "        for face_points in faces_of_cube:\n",
    "            face = [cell[i] for i in face_points]\n",
    "            faces.append(face)\n",
    "\n",
    "    # identify faces that only appear once and are therefore edge faces\n",
    "    edge_faces = []\n",
    "    for face in faces:\n",
    "        count = jnp.sum((faces==face))\n",
    "        if count == 1:\n",
    "            edge_faces.append(face)\n",
    "    \n",
    "    # deconstruct edge faces into a set of edge points\n",
    "    edge_points = set()\n",
    "    for edge_face in edge_faces:\n",
    "        for point in edge_face:\n",
    "            edge_points.add(point)\n",
    "\n",
    "    # for all edge points the displacement is known so construct the is_known feature as such\n",
    "    is_known = jnp.zeros(points.shape[0]) \n",
    "    for point in range(edge_points):\n",
    "        is_known[point] = 1\n",
    "    return is_known, edge_points\n",
    "\n",
    "def build_send_receive(cells):\n",
    "    sender_array = []\n",
    "    receiver_array = []\n",
    "    for edge in combinations(cells):\n",
    "        sender_array.append(edge[0])\n",
    "        receiver_array.append(edge[1])\n",
    "    return sender_array, receiver_array\n",
    "\n",
    "def build_graph(cells, points, U) -> jraph.GraphsTuple:\n",
    "    is_known, _ = Get_known(cells,points)\n",
    "    node_features = jnp.concatenate([points, U, is_known], axis=1)\n",
    "    sender_array, receiver_array = build_send_receive(cells)\n",
    "    num_nodes = points.shape[0]\n",
    "\n",
    "    graph = jraph.GraphsTuple(\n",
    "        nodes=node_features,\n",
    "        senders=sender_array,\n",
    "        receivers=receiver_array,\n",
    "        edges=None,\n",
    "        globals=None,\n",
    "        n_node=jnp.array([num_nodes]),\n",
    "        n_edge=jnp.array([len(sender_array)])\n",
    "    )\n",
    "    return graph\n"
   ]
  },
  {
   "cell_type": "markdown",
   "id": "e1c22883",
   "metadata": {},
   "source": [
    "Activation Functions"
   ]
  },
  {
   "cell_type": "code",
   "execution_count": null,
   "id": "2633a207",
   "metadata": {},
   "outputs": [],
   "source": [
    "def Silu(x: nnx.Array) -> nnx.Array:\n",
    "    return x * nnx.sigmoid(x)"
   ]
  },
  {
   "cell_type": "markdown",
   "id": "f255c09c",
   "metadata": {},
   "source": [
    "Linear layer"
   ]
  },
  {
   "cell_type": "code",
   "execution_count": null,
   "id": "399db1ac",
   "metadata": {},
   "outputs": [],
   "source": [
    "class Linear(nnx.Module):\n",
    "    \"\"\"\n",
    "    Applies trainable linear transformation to input vector x\n",
    "    Inputs: x: din dimensional row vectors as matrix\n",
    "    Return: Transformed dout dimensional vector\n",
    "    Trainable Params: w: d dimensional row vector, b: d dimensional row vector\n",
    "    \"\"\"\n",
    "    def __init__(self, din: int, dout: int,*, rngs: nnx.Rngs):\n",
    "        self.din, self.dout = din, dout\n",
    "        key = rngs.params()\n",
    "        initialiser = nnx.initializers.lecun_normal()\n",
    "        self.w = nnx.Param(initialiser(key=key, shape=(din,dout)))\n",
    "        self.b = nnx.Param(initialiser(key=key, shape=(dout,)))\n",
    "    \n",
    "    def __call__(self, x: jnp.Array):\n",
    "        return x @ self.w + self.b"
   ]
  },
  {
   "cell_type": "markdown",
   "id": "8615042f",
   "metadata": {},
   "source": [
    "GAT Layer"
   ]
  },
  {
   "cell_type": "code",
   "execution_count": null,
   "id": "b1030d7d",
   "metadata": {},
   "outputs": [],
   "source": [
    "class GAT(nnx.Module):\n",
    "    def __init__(self, in_features, out_features,*,rngs):\n",
    "        key = rngs.params()\n",
    "        initialiser = nnx.initializers.lecun_normal()\n",
    "        self.W = nnx.Param(initialiser(key=key, shape=(in_features, out_features)))\n",
    "        self.A = nnx.Param(initialiser(key=key, shape=(2 * out_features, 1)))\n",
    "        self.SoftMax = jraph.segment_softmax()\n",
    "        self.Leaky_Relu = nnx.leaky_relu()\n",
    "\n",
    "    def __call__(self, graph: jraph.GraphsTuple) -> jraph.GraphsTuple:\n",
    "\n",
    "        if graph.n_node is None:\n",
    "            raise ValueError(\"GAT requires nodes to have features\")\n",
    "        \n",
    "        h_sender = graph.nodes[graph.senders] @ self.W\n",
    "        h_receiver = graph.nodes[graph.receivers] @ self.W\n",
    "\n",
    "        send_receive_features = jnp.concatenate([h_sender, h_receiver], axis=-1)\n",
    "        attention_scores = self.Leaky_Relu(send_receive_features @ self.A)\n",
    "        \n",
    "        attention_coefficients = self.SoftMax(\n",
    "            logits=attention_scores, \n",
    "            segments_ids=graph.receivers,\n",
    "            num_segments=graph.n_node\n",
    "        )\n",
    "\n",
    "        weighted_features = attention_coefficients * h_sender\n",
    "\n",
    "        aggregate_nodes = jraph.aggregate_edges_for_nodes(\n",
    "            graph=graph,\n",
    "            edge_features=weighted_features,\n",
    "            aggregate_fn=jnp.sum\n",
    "        )\n",
    "\n",
    "        return graph._replace(nodes=aggregate_nodes)"
   ]
  },
  {
   "cell_type": "markdown",
   "id": "a045c04d",
   "metadata": {},
   "source": [
    "SAGPool WIP"
   ]
  },
  {
   "cell_type": "code",
   "execution_count": null,
   "id": "7a377c47",
   "metadata": {},
   "outputs": [],
   "source": [
    "class SAGPool(nnx.Module): \n",
    "    pass"
   ]
  },
  {
   "cell_type": "markdown",
   "id": "314af953",
   "metadata": {},
   "source": [
    "Model"
   ]
  },
  {
   "cell_type": "code",
   "execution_count": null,
   "id": "95b1149f",
   "metadata": {},
   "outputs": [],
   "source": [
    "class GNN(nnx.Module):\n",
    "    def __init__(self, input_dim: int, embedding_dim: int, output_dim: int, rngs: nnx.Rngs):\n",
    "        self.embedding_layer = Linear(input_dim, embedding_dim, rngs=rngs)\n",
    "        self.decoding_layer = Linear(embedding_dim, output_dim, rngs=rngs)\n",
    "\n",
    "        self.ReLU = nnx.relu()\n",
    "\n",
    "        self.encoderL1 = GAT(embedding_dim, embedding_dim, rngs=rngs)\n",
    "        self.BatchNormL1 = nnx.BatchNorm(num_features=embedding_dim, rngs=rngs)\n",
    "        self.encoderL2 = GAT(embedding_dim, embedding_dim, rngs=rngs)\n",
    "        self.BatchNormL2 = nnx.BatchNorm(num_features=embedding_dim, rngs=rngs)\n",
    "        self.encoderL3 = GAT(embedding_dim, embedding_dim, rngs=rngs)\n",
    "    \n",
    "    def embedder(self, graph: jraph.GraphsTuple) -> jraph.GraphsTuple:\n",
    "        nodes = graph.nodes\n",
    "        embeddings = self.embedding_layer(nodes)\n",
    "        return graph._replace(nodes=embeddings)\n",
    "    \n",
    "    def apply_activation_and_res(self, graph: jraph.GraphsTuple, residual: nnx.Array) -> jraph.GraphsTuple:\n",
    "        nodes = graph.nodes\n",
    "        activated_nodes = self.ReLU(nodes) + residual\n",
    "        return graph._replace(nodes=activated_nodes)\n",
    "    \n",
    "    def apply_res(self, graph: jraph.GraphsTuple, residual: nnx.Array):\n",
    "        new_nodes = graph.nodes + residual\n",
    "        return graph._replace(nodes=new_nodes)\n",
    "        \n",
    "    def decoder(self, graph: jraph.GraphsTuple) -> jraph.GraphsTuple: # Switch to SAGPool when its finished\n",
    "        aggregate_nodes = jraph.aggregate_nodes(graph, jnp.sum)\n",
    "        return self.decoding_layer(aggregate_nodes)\n",
    "        \n",
    "    def forward_pass(self, G: jraph.GraphsTuple, use_running_average: bool) -> nnx.Array:\n",
    "        G = self.embedder(G)\n",
    "        res1 = G.nodes\n",
    "\n",
    "        G = self.encoderL1(G)\n",
    "        self.BatchNormL1.use_running_average = use_running_average\n",
    "        nodes_norm = self.BatchNormL1(G.nodes)\n",
    "        G = G._replace(nodes=nodes_norm)\n",
    "        G = self.apply_activation_and_res(G, res1)\n",
    "        res2 = G.nodes\n",
    "\n",
    "        G = self.encoderL2(G)\n",
    "        self.BatchNormL2.use_running_average = use_running_average\n",
    "        nodes_norm = self.BatchNormL2(G.nodes)\n",
    "        G = G._replace(nodes=nodes_norm)\n",
    "        G = self.apply_activation_and_res(G, res2)\n",
    "        res3 = G.nodes\n",
    "\n",
    "        G = self.encoderL3(G)\n",
    "        G = self.apply_res(G, res3)\n",
    "\n",
    "        e = self.decoder(G)\n",
    "        return e\n",
    "    \n",
    "    def __call__(self, G: jraph.GraphsTuple, use_running_average):\n",
    "\n",
    "        e = self.forward_pass(G, use_running_average)\n",
    "        grad_graph = jax.grad(self.forward_pass, argnums=0)(G, use_running_average)\n",
    "        e_prime = grad_graph.nodes[:,4:7]\n",
    "\n",
    "        return e, e_prime"
   ]
  },
  {
   "cell_type": "markdown",
   "id": "b9615288",
   "metadata": {},
   "source": [
    "Loss function"
   ]
  },
  {
   "cell_type": "code",
   "execution_count": null,
   "id": "da4e759e",
   "metadata": {},
   "outputs": [],
   "source": [
    "optimiser = optax.chain(\n",
    "    optax.add_decayed_weights(weight_decay=1e-5),\n",
    "    optax.adam(\n",
    "    learning_rate=Learn_Rate, \n",
    "    b1=beta_1, \n",
    "    b2=beta_2\n",
    "    )\n",
    ")\n",
    "\n",
    "def loss_fn(graph_batch, target_e, target_e_prime,*, Model, Dataset_parameters, alpha, gamma, lam): \n",
    "    \"\"\"\n",
    "    Calculates the loss of a model, works to minimise the mean square error of both \n",
    "    the strain energy prediction and the strain energy derivative prediction,\n",
    "    whilst forcing the function through zero.\n",
    "    \"\"\"\n",
    "    \n",
    "    prediction_e, prediction_e_prime = Model(x, Dataset_parameters)\n",
    "    loss_e = jnp.mean((prediction_e - target_e)**2)\n",
    "    loss_e_prime = jnp.mean(optax.huber_loss(prediction_e_prime, target_e_prime))\n",
    "\n",
    "    mean_e = Dataset_parameters['target_e']['mean']\n",
    "    std_dev_e = Dataset_parameters['target_e']['std_dev']\n",
    "    target_zero = (0 - mean_e) / std_dev_e\n",
    "    \n",
    "    x_zero = jnp.zeros(x[0].shape)\n",
    "    x_zero = jnp.expand_dims(x_zero, axis=0)\n",
    "    prediction_zero, _ = Model(x_zero, Dataset_parameters)\n",
    "    loss_zero = jnp.mean((prediction_zero - target_zero)**2)\n",
    "\n",
    "    return (alpha * loss_e + gamma * loss_e_prime + lam * loss_zero)"
   ]
  },
  {
   "cell_type": "markdown",
   "id": "f8161a58",
   "metadata": {},
   "source": [
    "Batch Graphs"
   ]
  },
  {
   "cell_type": "code",
   "execution_count": null,
   "id": "44bb9034",
   "metadata": {},
   "outputs": [],
   "source": [
    "def batch_and_split_dataset(graphs, batch_size, train_split, CV_split, test_split, key):\n",
    "    shuffled_graphs_index = jax.random.permutation(key, len(graphs))\n",
    "    n_train_batches = (train_split * len(graphs)) // batch_size\n",
    "    n_test_batches = (test_split * len(graphs)) // batch_size\n",
    "    n_CV_batches = (CV_split * len(graphs)) // batch_size\n",
    "\n",
    "    train_batches_i = shuffled_graphs_index[:n_train_batches]\n",
    "    test_batches_i = shuffled_graphs_index[n_train_batches:(n_train_batches + n_test_batches)]\n",
    "    CV_batches_i = shuffled_graphs_index[(n_train_batches + n_test_batches):(n_train_batches + n_test_batches + n_CV_batches)]\n",
    "\n",
    "    train_batches = graphs[train_batches_i]\n",
    "    test_batches = graphs[test_batches_i]\n",
    "    CV_batches = graphs[CV_batches_i]\n",
    "    return train_batches, CV_batches, test_batches"
   ]
  },
  {
   "cell_type": "markdown",
   "id": "df24c632",
   "metadata": {},
   "source": [
    "Train Loop"
   ]
  }
 ],
 "metadata": {
  "kernelspec": {
   "display_name": "JAX_ML_env_two",
   "language": "python",
   "name": "python3"
  },
  "language_info": {
   "codemirror_mode": {
    "name": "ipython",
    "version": 3
   },
   "file_extension": ".py",
   "mimetype": "text/x-python",
   "name": "python",
   "nbconvert_exporter": "python",
   "pygments_lexer": "ipython3",
   "version": "3.13.5"
  }
 },
 "nbformat": 4,
 "nbformat_minor": 5
}
