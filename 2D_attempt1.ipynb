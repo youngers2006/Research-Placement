{
 "cells": [
  {
   "cell_type": "markdown",
   "id": "544ad384",
   "metadata": {},
   "source": [
    "Sources of information for various additions:\n",
    "-RMS sensitivty loss regularisation term: Sensitivity Analysis of Deep Neural Networks, Hai Shu and Hongtu Zhu. AAAI19 conference."
   ]
  },
  {
   "cell_type": "markdown",
   "id": "7270b4c5",
   "metadata": {},
   "source": [
    "Libraries"
   ]
  },
  {
   "cell_type": "code",
   "execution_count": 14,
   "id": "4d7ed0f2",
   "metadata": {},
   "outputs": [],
   "source": [
    "import torch\n",
    "import torch.nn as nn\n",
    "import torch.optim as optim\n",
    "from torch.utils.data import Dataset\n",
    "from torch.utils.data import DataLoader\n",
    "import numpy as np\n",
    "import pandas as pd \n",
    "import matplotlib.pyplot as plt\n",
    "from tqdm import tqdm"
   ]
  },
  {
   "cell_type": "markdown",
   "id": "2def4e64",
   "metadata": {},
   "source": [
    "Device Selection"
   ]
  },
  {
   "cell_type": "code",
   "execution_count": 15,
   "id": "ccc27753",
   "metadata": {},
   "outputs": [],
   "source": [
    "if torch.cuda.is_available():\n",
    "    my_device = torch.device(\"cuda\")\n",
    "else:\n",
    "    my_device = torch.device(\"cpu\")"
   ]
  },
  {
   "cell_type": "markdown",
   "id": "a4817381",
   "metadata": {},
   "source": [
    "Data"
   ]
  },
  {
   "cell_type": "code",
   "execution_count": 16,
   "id": "54e08510",
   "metadata": {},
   "outputs": [],
   "source": [
    "def target_function(x):\n",
    "    x = np.array(x,dtype=np.float32)\n",
    "    y1 = np.array(12*x**4 + 81*x**2 - 10*x + 14)\n",
    "    y2 = np.array(48*x**3 + 162*x - 10)\n",
    "    return y1,y2\n",
    "\n",
    "train_data_raw = range(-1000, 1000)\n",
    "y1_raw, y2_raw = target_function(train_data_raw)\n",
    "\n",
    "inputs = torch.tensor(list(train_data_raw), dtype=torch.float32).unsqueeze(1)\n",
    "targets = torch.tensor(np.stack([y1_raw, y2_raw], axis=1), dtype=torch.float32)"
   ]
  },
  {
   "cell_type": "markdown",
   "id": "6b2bcf1e",
   "metadata": {},
   "source": [
    "Hyperparameters"
   ]
  },
  {
   "cell_type": "code",
   "execution_count": 17,
   "id": "3f2c3c1d",
   "metadata": {},
   "outputs": [],
   "source": [
    "Learn_Rate = 0.01\n",
    "beta1 = 0.9\n",
    "beta2 = 0.999\n",
    "num_epochs = 100\n",
    "alpha = 1.0 # weight of energy derivative loss comparative to energy loss"
   ]
  },
  {
   "cell_type": "markdown",
   "id": "6e191803",
   "metadata": {},
   "source": [
    "Model Architecture "
   ]
  },
  {
   "cell_type": "code",
   "execution_count": 18,
   "id": "d2a545ee",
   "metadata": {},
   "outputs": [],
   "source": [
    "strain_dims = 1\n",
    "Layer1_output_dim = 1024\n",
    "Layer2_output_dim = 512\n",
    "Layer3_output_dim = 128\n",
    "Energy_dims = 1\n",
    "Energy_derivative_dims = 1\n",
    "\n",
    "class unit_approximation(nn.Module):\n",
    "\n",
    "    def __init__(self, input_dims, output1_dims, output2_dims):\n",
    "        super().__init__()\n",
    "\n",
    "        self.Layer1 = nn.Linear(input_dims, Layer1_output_dim)\n",
    "        self.Layer2 = nn.Linear(Layer1_output_dim, Layer2_output_dim)\n",
    "        self.Layer3 = nn.Linear(Layer2_output_dim, Layer3_output_dim)\n",
    "        self.energy_head = nn.Linear(Layer3_output_dim, output1_dims)\n",
    "        self.energy_derivative_head = nn.Linear(Layer3_output_dim, output2_dims)\n",
    "\n",
    "        self.relu = nn.ReLU() # Note: looking to create an activation function that would allow discontinuities\n",
    "        \n",
    "    def forward(self, X):\n",
    "        X = self.Layer1(X)\n",
    "        X = self.relu(X)\n",
    "        X = self.Layer2(X)\n",
    "        X = self.relu(X)\n",
    "        X = self.Layer3(X)\n",
    "        X = self.relu(X)\n",
    "        X1 = self.energy_head(X)\n",
    "        X2 = self.energy_derivative_head(X)\n",
    "\n",
    "        return X1,X2\n",
    "\n",
    "# Instantiate Model\n",
    "Model = unit_approximation(strain_dims, Energy_dims, Energy_derivative_dims)"
   ]
  },
  {
   "cell_type": "markdown",
   "id": "c43e6cc6",
   "metadata": {},
   "source": [
    "Optimiser and Loss"
   ]
  },
  {
   "cell_type": "code",
   "execution_count": 19,
   "id": "f7b89763",
   "metadata": {},
   "outputs": [],
   "source": [
    "optimiser = optim.Adam(Model.parameters(),lr=Learn_Rate,betas=(beta1,beta2))\n",
    "\n",
    "Loss = torch.nn.MSELoss()\n",
    "# Quantile Loss function can handle discontinuities but using mean square error here for ease of computation, also lloking at custom loss functions"
   ]
  },
  {
   "cell_type": "markdown",
   "id": "42a4c6ec",
   "metadata": {},
   "source": [
    "Training Loop"
   ]
  },
  {
   "cell_type": "code",
   "execution_count": 20,
   "id": "dcc2387b",
   "metadata": {},
   "outputs": [
    {
     "name": "stderr",
     "output_type": "stream",
     "text": [
      "                                                                \r"
     ]
    }
   ],
   "source": [
    "loss_record = []\n",
    "batch_size = 5\n",
    "batches_per_epoch = len(inputs) // batch_size\n",
    "\n",
    "for epoch in range(num_epochs):\n",
    "\n",
    "    running_loss = 0\n",
    "\n",
    "    for i in tqdm(range(batches_per_epoch),desc=f\"Epoch {epoch}/{num_epochs}\", leave=False):\n",
    "\n",
    "        start = i * batch_size\n",
    "\n",
    "        inputs_batch = inputs[start:start+batch_size]\n",
    "        targets_batch = targets[start:start+batch_size]\n",
    "\n",
    "        inputs_batch.to(device=my_device)\n",
    "        targets_batch.to(device=my_device)\n",
    "\n",
    "        optimiser.zero_grad()\n",
    "\n",
    "        energy_pred, deriv_pred = Model(inputs_batch)\n",
    "\n",
    "        energy_target = targets_batch[:, 0].unsqueeze(1)\n",
    "        deriv_target = targets_batch[:, 1].unsqueeze(1)\n",
    "\n",
    "        loss_energy = Loss(energy_pred, energy_target)\n",
    "        loss_derivative = Loss(deriv_pred, deriv_target)\n",
    "\n",
    "        loss = loss_energy + alpha * loss_derivative\n",
    "\n",
    "        loss.backward()\n",
    "        optimiser.step()\n",
    "\n",
    "        if torch.isnan(loss):\n",
    "            print(f\"Loss became NaN at batch {i+1} in epoch {epoch+1}!\")\n",
    "            if torch.isnan(Model.Layer1.weight).any():\n",
    "                print(\"Model weights have been corrupted by NaN values.\")\n",
    "            break\n",
    "\n",
    "        running_loss += loss.item()\n",
    "\n",
    "    loss_record.append(running_loss)\n",
    "\n",
    "    \n",
    "        "
   ]
  },
  {
   "cell_type": "markdown",
   "id": "2a001e87",
   "metadata": {},
   "source": [
    "RMS sensitivty"
   ]
  },
  {
   "cell_type": "code",
   "execution_count": null,
   "id": "1e76df63",
   "metadata": {},
   "outputs": [],
   "source": []
  },
  {
   "cell_type": "markdown",
   "id": "98a7769c",
   "metadata": {},
   "source": [
    "Plot Loss"
   ]
  },
  {
   "cell_type": "code",
   "execution_count": 21,
   "id": "eba09764",
   "metadata": {},
   "outputs": [
    {
     "name": "stdout",
     "output_type": "stream",
     "text": [
      "[6.118152078777008e+27, 5.949845890754029e+27, 5.722533196289207e+27, 5.478537096694955e+27, 5.241124510552014e+27, 5.069307343367083e+27, 4.918207446119155e+27, 4.7775925676806596e+27, 4.6449292945185955e+27, 4.5189910018291005e+27, 4.399052612280568e+27, 4.2846396992306445e+27, 4.1754187810051473e+27, 4.089096032984388e+27, 3.9909519603322335e+27, 3.897075383991974e+27, 3.8077021351892577e+27, 3.7225932703894385e+27, 3.641643694779577e+27, 3.564708694699643e+27, 3.491660683429953e+27, 3.4223707089089517e+27, 3.356707955113165e+27, 3.294539187225692e+27, 3.235728968903358e+27, 3.180143697199961e+27, 3.127647209875807e+27, 3.078104917407581e+27, 3.0313827235107054e+27, 2.9873485873461443e+27, 2.9458724447669454e+27, 2.906826817590247e+27, 2.8700869609578745e+27, 2.835531467414007e+27, 2.803042926486901e+27, 2.7725076771108164e+27, 2.743817210785533e+27, 2.7168659839913917e+27, 2.691554386599631e+27, 2.66778629270851e+27, 2.645470093604965e+27, 2.624519615834651e+27, 2.604852847901472e+27, 2.586391294167104e+27, 2.5690619319991437e+27, 2.552794933517996e+27, 2.537524786257968e+27, 2.523189620478384e+27, 2.509731353189267e+27, 2.4970949194150267e+27, 2.4852288401045675e+27, 2.4740846278528874e+27, 2.4636165234269894e+27, 2.4537812852741087e+27, 2.4445387736985385e+27, 2.4358510441460065e+27, 2.4276821101175827e+27, 2.41999852158218e+27, 2.4127686363180592e+27, 2.4059626136075086e+27, 2.3995526104372872e+27, 2.393512616449017e+27, 2.3878178918536394e+27, 2.38244548996325e+27, 2.377373690825729e+27, 2.3725821889603865e+27, 2.368051850166399e+27, 2.363764867586046e+27, 2.3597043617586045e+27, 2.3558547007595742e+27, 2.3522012991999578e+27, 2.3487303147700605e+27, 2.3454290050397025e+27, 2.342285512273415e+27, 2.3392885215056155e+27, 2.3364275741746638e+27, 2.3336930099663316e+27, 2.3310756468392418e+27, 2.3285672082789723e+27, 2.3261597922351363e+27, 2.3238458778924034e+27, 2.321618806468181e+27, 2.3194722293710719e+27, 2.3174002311637788e+27, 2.3153973481719802e+27, 2.3134586180166062e+27, 2.3115791863574092e+27, 2.309754831084375e+27, 2.3079814111175212e+27, 2.3062553020697832e+27, 2.3045728131860975e+27, 2.302930928021721e+27, 2.3013265615107039e+27, 2.2997569547557957e+27, 2.2982196771707514e+27, 2.296712238871204e+27, 2.2952324677911785e+27, 2.293778435296645e+27, 2.2923482064254527e+27, 2.2909401132344362e+27]\n"
     ]
    },
    {
     "data": {
      "image/png": "[encoded data removed]",
      "text/plain": [
       "<Figure size 640x480 with 1 Axes>"
      ]
     },
     "metadata": {},
     "output_type": "display_data"
    }
   ],
   "source": [
    "plt.plot(range(num_epochs),loss_record)\n",
    "\n",
    "print(loss_record)"
   ]
  },
  {
   "cell_type": "markdown",
   "id": "68ec2820",
   "metadata": {},
   "source": [
    "Predict Outputs"
   ]
  },
  {
   "cell_type": "code",
   "execution_count": 22,
   "id": "3bfe6804",
   "metadata": {},
   "outputs": [
    {
     "name": "stdout",
     "output_type": "stream",
     "text": [
      "[1.1410425e+08 1.7877453e+08]\n",
      "[8.2147670e+06 1.1505236e+07]\n",
      "[1.1410425e+08 1.7877453e+08]\n",
      "[8.2147670e+06 1.1505236e+07]\n"
     ]
    }
   ],
   "source": [
    "x = [55.5,62.1]\n",
    "xT = torch.tensor(list(x), dtype=torch.float32).unsqueeze(1)\n",
    "\n",
    "with torch.no_grad():\n",
    "    y_pred, y_deriv_pred = Model(xT)\n",
    "\n",
    "y_acc, y_deriv_acc = target_function(x)\n",
    "\n",
    "print(y_acc)\n",
    "print(y_deriv_acc)\n",
    "\n",
    "print(y_acc)\n",
    "print(y_deriv_acc)"
   ]
  }
 ],
 "metadata": {
  "kernelspec": {
   "display_name": "ML_general_env",
   "language": "python",
   "name": "python3"
  },
  "language_info": {
   "codemirror_mode": {
    "name": "ipython",
    "version": 3
   },
   "file_extension": ".py",
   "mimetype": "text/x-python",
   "name": "python",
   "nbconvert_exporter": "python",
   "pygments_lexer": "ipython3",
   "version": "3.13.5"
  }
 },
 "nbformat": 4,
 "nbformat_minor": 5
}
