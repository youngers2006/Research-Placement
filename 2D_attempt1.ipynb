{
 "cells": [
  {
   "cell_type": "markdown",
   "id": "7270b4c5",
   "metadata": {},
   "source": [
    "Libraries"
   ]
  },
  {
   "cell_type": "code",
   "execution_count": null,
   "id": "4d7ed0f2",
   "metadata": {},
   "outputs": [],
   "source": [
    "import torch\n",
    "import torch.nn as nn\n",
    "import torch.optim as optim\n",
    "from torch.utils.data import Dataset\n",
    "import numpy as np\n",
    "import pandas as pd "
   ]
  },
  {
   "cell_type": "markdown",
   "id": "cd8e8b7e",
   "metadata": {},
   "source": [
    "Dataset class"
   ]
  },
  {
   "cell_type": "code",
   "execution_count": null,
   "id": "d254c15c",
   "metadata": {},
   "outputs": [],
   "source": [
    "class dataset(Dataset):\n",
    "    def __init__(self, data, target):\n",
    "        self.X = data.values.astype(\"float64\")\n",
    "        self.Y = target.values.astype(\"float64\")\n",
    "    \n",
    "    def __getitem__(self, index_row,index_column):\n",
    "        x = torch.tensor(self.X[index_row,index_column])\n",
    "        y = torch.tensor(self.Y[index_row,index_column])\n",
    "    \n",
    "    def __len__(self):\n",
    "        return len(self.Y)\n",
    "\n"
   ]
  }
 ],
 "metadata": {
  "language_info": {
   "name": "python"
  }
 },
 "nbformat": 4,
 "nbformat_minor": 5
}
