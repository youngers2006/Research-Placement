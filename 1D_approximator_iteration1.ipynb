{
 "cells": [
  {
   "cell_type": "markdown",
   "id": "544ad384",
   "metadata": {},
   "source": [
    "Sources of information for various additions:\n",
    "-RMS sensitivty loss regularisation term: Sensitivity Analysis of Deep Neural Networks, Hai Shu and Hongtu Zhu. AAAI19 conference."
   ]
  },
  {
   "cell_type": "markdown",
   "id": "7270b4c5",
   "metadata": {},
   "source": [
    "Libraries"
   ]
  },
  {
   "cell_type": "code",
   "execution_count": 135,
   "id": "4d7ed0f2",
   "metadata": {},
   "outputs": [],
   "source": [
    "import torch\n",
    "import torch.nn as nn\n",
    "import torch.optim as optim\n",
    "from torch.utils.data import Dataset\n",
    "from torch.utils.data import DataLoader\n",
    "import numpy as np\n",
    "import pandas as pd \n",
    "import matplotlib.pyplot as plt\n",
    "from tqdm import tqdm"
   ]
  },
  {
   "cell_type": "markdown",
   "id": "2def4e64",
   "metadata": {},
   "source": [
    "Device Selection"
   ]
  },
  {
   "cell_type": "code",
   "execution_count": 136,
   "id": "ccc27753",
   "metadata": {},
   "outputs": [
    {
     "name": "stdout",
     "output_type": "stream",
     "text": [
      "Using cpu\n"
     ]
    }
   ],
   "source": [
    "if torch.cuda.is_available():\n",
    "    my_device = torch.device(\"cuda\")\n",
    "    print(\"Using gpu\")\n",
    "else:\n",
    "    my_device = torch.device(\"cpu\")\n",
    "    print(\"Using cpu\")"
   ]
  },
  {
   "cell_type": "markdown",
   "id": "a4817381",
   "metadata": {},
   "source": [
    "Data"
   ]
  },
  {
   "cell_type": "code",
   "execution_count": 137,
   "id": "54e08510",
   "metadata": {},
   "outputs": [
    {
     "data": {
      "text/plain": [
       "[<matplotlib.lines.Line2D at 0x1ac374f3110>]"
      ]
     },
     "execution_count": 137,
     "metadata": {},
     "output_type": "execute_result"
    },
    {
     "data": {
      "image/png": "[encoded data removed]",
      "text/plain": [
       "<Figure size 640x480 with 1 Axes>"
      ]
     },
     "metadata": {},
     "output_type": "display_data"
    }
   ],
   "source": [
    "def target_function(x):\n",
    "    x = np.array(x,dtype=np.float32)\n",
    "    y1 = np.array(12*x**4 + 81*x**2 - 10*x + 14)\n",
    "    y2 = np.array(48*x**3 + 162*x - 10)\n",
    "    return y1,y2\n",
    "\n",
    "train_data_raw = range(-1000, 1000)\n",
    "y1_raw, y2_raw = target_function(train_data_raw)\n",
    "\n",
    "inputs = torch.tensor(list(train_data_raw), dtype=torch.float32).unsqueeze(1)\n",
    "targets = torch.tensor(np.stack([y1_raw, y2_raw], axis=1), dtype=torch.float32)\n",
    "\n",
    "plt.plot(train_data_raw,y1_raw)"
   ]
  },
  {
   "cell_type": "markdown",
   "id": "6b2bcf1e",
   "metadata": {},
   "source": [
    "Hyperparameters"
   ]
  },
  {
   "cell_type": "code",
   "execution_count": null,
   "id": "3f2c3c1d",
   "metadata": {},
   "outputs": [],
   "source": [
    "Learn_Rate = 0.001\n",
    "beta1 = 0.9\n",
    "beta2 = 0.999\n",
    "num_epochs = 500\n",
    "alpha = 0.4 # weight of energy derivative loss comparative to energy loss"
   ]
  },
  {
   "cell_type": "markdown",
   "id": "6e191803",
   "metadata": {},
   "source": [
    "Model Architecture "
   ]
  },
  {
   "cell_type": "code",
   "execution_count": 139,
   "id": "d2a545ee",
   "metadata": {},
   "outputs": [],
   "source": [
    "strain_dims = 1\n",
    "Layer1_output_dim = 32\n",
    "Layer2_output_dim = 12\n",
    "Energy_dims = 1\n",
    "\n",
    "class unit_approximation(nn.Module):\n",
    "\n",
    "    def __init__(self, input_dims, output1_dims):\n",
    "        super().__init__()\n",
    "\n",
    "        self.Layer1 = nn.Linear(input_dims, Layer1_output_dim)\n",
    "        self.Layer2 = nn.Linear(Layer1_output_dim, Layer2_output_dim)\n",
    "        self.energy_head = nn.Linear(Layer2_output_dim, output1_dims)\n",
    "\n",
    "        self.silu = nn.SiLU() # Note: looking to create an activation function that would allow discontinuities\n",
    "        \n",
    "    def forward(self, X_input):\n",
    "\n",
    "        if not X_input.requires_grad:\n",
    "            X_input.requires_grad_(True)\n",
    "\n",
    "        X = self.Layer1(X_input)\n",
    "        X = self.silu(X)\n",
    "        X = self.Layer2(X)\n",
    "        X = self.silu(X)\n",
    "        energy = self.energy_head(X)\n",
    "\n",
    "        energy_derivative = torch.autograd.grad(\n",
    "            inputs = X_input,\n",
    "            outputs = energy,\n",
    "            grad_outputs=torch.ones_like(energy),\n",
    "            create_graph = True,\n",
    "            retain_graph = True\n",
    "            )[0]\n",
    "\n",
    "        return energy, energy_derivative\n",
    "\n",
    "# Instantiate Model\n",
    "Model = unit_approximation(strain_dims, Energy_dims)"
   ]
  },
  {
   "cell_type": "markdown",
   "id": "c43e6cc6",
   "metadata": {},
   "source": [
    "Optimiser and Loss"
   ]
  },
  {
   "cell_type": "code",
   "execution_count": 140,
   "id": "f7b89763",
   "metadata": {},
   "outputs": [],
   "source": [
    "optimiser = optim.Adam(Model.parameters(),lr=Learn_Rate,betas=(beta1,beta2))\n",
    "\n",
    "Loss = torch.nn.MSELoss()\n",
    "# Quantile Loss function can handle discontinuities but using mean square error here for ease of computation, also lloking at custom loss functions"
   ]
  },
  {
   "cell_type": "markdown",
   "id": "83a52a03",
   "metadata": {},
   "source": [
    "RMS Loss Regularisation"
   ]
  },
  {
   "cell_type": "code",
   "execution_count": 141,
   "id": "33d296ad",
   "metadata": {},
   "outputs": [],
   "source": [
    "def RMS_reg():\n",
    "    pass"
   ]
  },
  {
   "cell_type": "markdown",
   "id": "42a4c6ec",
   "metadata": {},
   "source": [
    "Training Loop"
   ]
  },
  {
   "cell_type": "code",
   "execution_count": 142,
   "id": "dcc2387b",
   "metadata": {},
   "outputs": [
    {
     "name": "stderr",
     "output_type": "stream",
     "text": [
      "                                                               \r"
     ]
    }
   ],
   "source": [
    "loss_record = []\n",
    "batch_size = 20\n",
    "batches_per_epoch = len(inputs) // batch_size\n",
    "\n",
    "for epoch in range(num_epochs):\n",
    "\n",
    "    running_loss = 0\n",
    "\n",
    "    Model.train()\n",
    "\n",
    "    for i in tqdm(range(batches_per_epoch),desc=f\"Epoch {epoch}/{num_epochs}\", leave=False):\n",
    "\n",
    "        start = i * batch_size\n",
    "\n",
    "        inputs_batch = inputs[start:start+batch_size]\n",
    "        targets_batch = targets[start:start+batch_size]\n",
    "\n",
    "        inputs_batch.to(device=my_device)\n",
    "        targets_batch.to(device=my_device)\n",
    "\n",
    "        optimiser.zero_grad()\n",
    "\n",
    "        energy_pred, deriv_pred = Model(inputs_batch)\n",
    "\n",
    "        energy_target = targets_batch[:, 0].unsqueeze(1)\n",
    "        deriv_target = targets_batch[:, 1].unsqueeze(1)\n",
    "\n",
    "        loss_energy = Loss(energy_pred, energy_target)\n",
    "        loss_derivative = Loss(deriv_pred, deriv_target)\n",
    "\n",
    "        loss = loss_energy + alpha * loss_derivative\n",
    "\n",
    "        loss.backward()\n",
    "        optimiser.step()\n",
    "\n",
    "        if torch.isnan(loss):\n",
    "            print(f\"Loss became NaN at batch {i} in epoch {epoch}!\")\n",
    "            if torch.isnan(Model.Layer1.weight).any():\n",
    "                print(\"Model weights have been corrupted by NaN values.\")\n",
    "            break\n",
    "\n",
    "        running_loss += loss.item()\n",
    "\n",
    "    loss_record.append(running_loss)\n",
    "\n",
    "    \n",
    "        "
   ]
  },
  {
   "cell_type": "markdown",
   "id": "98a7769c",
   "metadata": {},
   "source": [
    "Plot Loss"
   ]
  },
  {
   "cell_type": "code",
   "execution_count": 143,
   "id": "eba09764",
   "metadata": {},
   "outputs": [
    {
     "name": "stdout",
     "output_type": "stream",
     "text": [
      "[1.5931636858497648e+27, 1.586386175702853e+27, 1.5797097892567938e+27, 1.5737473622851742e+27, 1.5680106054517588e+27, 1.5624656504348772e+27, 1.557744354432677e+27, 1.553152862172564e+27, 1.5485941147675767e+27, 1.5442526717198048e+27, 1.541305603141984e+27, 1.539233820344456e+27, 1.5372850122263582e+27, 1.5353395539974347e+27, 1.5334706287651477e+27, 1.5316230264291596e+27, 1.5297778230383714e+27, 1.527934916154898e+27, 1.5260941637671534e+27, 1.524255492936117e+27, 1.522418942444675e+27, 1.5205844310312077e+27, 1.5187519739279643e+27, 1.516921503748989e+27, 1.515093025946001e+27, 1.513266639217971e+27, 1.511442252519683e+27, 1.5096198926152255e+27, 1.507799595794052e+27, 1.5059813262272306e+27, 1.504165185973124e+27, 1.502351136754282e+27, 1.5005392351292818e+27, 1.4987294481984125e+27, 1.496921842392723e+27, 1.4951164121399618e+27, 1.4933132146905384e+27, 1.4915329756638352e+27, 1.4897601155695456e+27, 1.4879893913966828e+27, 1.4862209275721972e+27, 1.484454684208944e+27, 1.4826906807338485e+27, 1.4809289873138696e+27, 1.4791696235473633e+27, 1.477412550447138e+27, 1.4756578802668767e+27, 1.473905590166084e+27, 1.4721557299359167e+27, 1.470408268976681e+27, 1.4686633330960964e+27, 1.4669207925150896e+27, 1.465180850244766e+27, 1.4634434167410058e+27, 1.4617085002551188e+27, 1.4599762014290028e+27, 1.4582465104201034e+27, 1.4565195222085598e+27, 1.4547951184365768e+27, 1.453073409588714e+27, 1.4513544182991405e+27, 1.4496381436049307e+27, 1.4479246771022728e+27, 1.446213921927123e+27, 1.4445059771521275e+27, 1.4428009305171666e+27, 1.441098706457716e+27, 1.4393993123097516e+27, 1.4377028761879148e+27, 1.4360093635270653e+27, 1.4343187986093566e+27, 1.432631177769391e+27, 1.4309465620222915e+27, 1.4292649186475816e+27, 1.4275862829095986e+27, 1.42591078017296e+27, 1.424238264687565e+27, 1.4225688512091676e+27, 1.42090262019355e+27, 1.4192395033783088e+27, 1.4175795170553306e+27, 1.4159227755131614e+27, 1.4142692098653477e+27, 1.412618909242149e+27, 1.410971877409387e+27, 1.409328115504407e+27, 1.4076876334598782e+27, 1.4060504529855275e+27, 1.4044166406060388e+27, 1.402786150442451e+27, 1.401159086454495e+27, 1.3995353918218687e+27, 1.3979151030568722e+27, 1.3962982357424265e+27, 1.3946847462647226e+27, 1.3930748114108522e+27, 1.391468388734309e+27, 1.3898654859199262e+27, 1.3882660809600098e+27, 1.3866702319353295e+27, 1.385077978771431e+27, 1.383489302324914e+27, 1.3819042492709418e+27, 1.3803228375871972e+27, 1.3787450429118383e+27, 1.3771709063607004e+27, 1.3756004635728854e+27, 1.3740336771404467e+27, 1.3724707147864346e+27, 1.370911382623142e+27, 1.369355910681969e+27, 1.3678041186378246e+27, 1.3662561436087697e+27, 1.3647120245357752e+27, 1.3631717119434263e+27, 1.3616353043127847e+27, 1.360102682813627e+27, 1.3585738822804388e+27, 1.357049066623048e+27, 1.3555281137088638e+27, 1.354011143560711e+27, 1.352498123397736e+27, 1.350988979969872e+27, 1.3494838642806527e+27, 1.3479827259604125e+27, 1.3464855796107104e+27, 1.3449924075737714e+27, 1.343503308828428e+27, 1.3420183079525822e+27, 1.3405372842617198e+27, 1.3390603818725118e+27, 1.3375876071239218e+27, 1.3361189061665203e+27, 1.3346543135028326e+27, 1.3331938763349544e+27, 1.3317375394994324e+27, 1.3302854144547048e+27, 1.3288375074278695e+27, 1.3273937675429044e+27, 1.3259542306398053e+27, 1.324518916834949e+27, 1.3230879131325505e+27, 1.3216611754030973e+27, 1.3202386078485704e+27, 1.3188203777595473e+27, 1.3174064041550264e+27, 1.3159966813775257e+27, 1.3145913543860504e+27, 1.3131902728203033e+27, 1.3117935409005953e+27, 1.3104011928025273e+27, 1.3090131212451048e+27, 1.3076294537011613e+27, 1.3062501148200443e+27, 1.304875184357431e+27, 1.303504679756443e+27, 1.3021385465922092e+27, 1.3007769024353274e+27, 1.299419632398845e+27, 1.298066887890702e+27, 1.296718587678897e+27, 1.2953746647933775e+27, 1.29403526391439e+27, 1.2927003471848726e+27, 1.2913699698434922e+27, 1.290044109160933e+27, 1.2887226756195055e+27, 1.2874057720332097e+27, 1.28609336660316e+27, 1.2847855707797416e+27, 1.2834823115689055e+27, 1.2821836316743266e+27, 1.280889423302965e+27, 1.2795998128073527e+27, 1.2783148667196933e+27, 1.277034310375611e+27, 1.2757584768319148e+27, 1.274487205441677e+27, 1.273220490381554e+27, 1.271958378811699e+27, 1.270700855599426e+27, 1.269447918698082e+27, 1.2681996640059205e+27, 1.2669560300843508e+27, 1.265717019573217e+27, 1.2644828021101789e+27, 1.263253141999496e+27, 1.2620281205689832e+27, 1.2608077349775256e+27, 1.2595919948336593e+27, 1.258380951928282e+27, 1.2571745645145194e+27, 1.2559728752308364e+27, 1.2547757976057953e+27, 1.253583455397423e+27, 1.252395804230811e+27, 1.2512128451226853e+27, 1.2500345344747627e+27, 1.248860947894292e+27, 1.24769201020178e+27, 1.2465278144106671e+27, 1.2453682209091843e+27, 1.2442134030681918e+27, 1.2430632892752206e+27, 1.2419179103132247e+27, 1.2407772146851574e+27, 1.239641277799323e+27, 1.2385100628211883e+27, 1.2373835484264111e+27, 1.2362616820667344e+27, 1.2351445829894795e+27, 1.2340321172224633e+27, 1.2329244345140059e+27, 1.2318213721008873e+27, 1.2307231650998364e+27, 1.2296296034823146e+27, 1.2285407922146199e+27, 1.2274566865829475e+27, 1.2263772340216196e+27, 1.2253025232766794e+27, 1.2242324523210091e+27, 1.2231671960290055e+27, 1.2221065586110826e+27, 1.2210507109052884e+27, 1.2199994793645141e+27, 1.2189530536208589e+27, 1.2179111951833349e+27, 1.2168740692015684e+27, 1.2158416157827336e+27, 1.2148138456189673e+27, 1.2137907705805774e+27, 1.2127724788250722e+27, 1.2117587389149483e+27, 1.2107497444855826e+27, 1.2097453853725626e+27, 1.2087457684255167e+27, 1.2077507866554526e+27, 1.2067603379492576e+27, 1.2057745458474941e+27, 1.204793485504011e+27, 1.2038169881356106e+27, 1.2028451317191046e+27, 1.2018780411328848e+27, 1.2009154227647572e+27, 1.1999575100318597e+27, 1.1990042135689733e+27, 1.1980555984693971e+27, 1.197111559740778e+27, 1.1961721463285016e+27, 1.1952373505240349e+27, 1.1943071525786805e+27, 1.1933814944760698e+27, 1.1924604015863468e+27, 1.1915438327211477e+27, 1.1906319523757994e+27, 1.1897243582092898e+27, 1.1888214627744922e+27, 1.1879229734367092e+27, 1.187029043621008e+27, 1.1861397148582165e+27, 1.1852548393138306e+27, 1.1843744104216082e+27, 1.1834985787371269e+27, 1.1826272577549752e+27, 1.1817603132546134e+27, 1.1808979482691491e+27, 1.1800399330712572e+27, 1.179186476937328e+27, 1.1783374355850979e+27, 1.1774928393665434e+27, 1.1766525194249909e+27, 1.1758167957024682e+27, 1.1749855012314033e+27, 1.1741585864641823e+27, 1.1733360156232237e+27, 1.1725179622006671e+27, 1.1717042854326827e+27, 1.1708949492263366e+27, 1.1700899743211227e+27, 1.1692893608801929e+27, 1.1684930887302633e+27, 1.1677010473964871e+27, 1.1669133420246552e+27, 1.1661298804140176e+27, 1.1653507200038653e+27, 1.1645758284364634e+27, 1.1638051882435765e+27, 1.1630387838370274e+27, 1.162276651557549e+27, 1.161518729668126e+27, 1.1607649621510686e+27, 1.160015420206954e+27, 1.1592699481841579e+27, 1.1585286291532792e+27, 1.1577914394265357e+27, 1.1570584895768899e+27, 1.1563295557586426e+27, 1.1556047795598662e+27, 1.1548841793980418e+27, 1.1541676305960461e+27, 1.1534551370540229e+27, 1.1527466671299162e+27, 1.1520422413769103e+27, 1.1513418220239037e+27, 1.1506455557017865e+27, 1.1499533061951706e+27, 1.1492649860092864e+27, 1.1485806905002855e+27, 1.1479003423720138e+27, 1.1472239442001188e+27, 1.1465514394517564e+27, 1.1458827856283833e+27, 1.145218142124262e+27, 1.1445574418253737e+27, 1.1439006241292877e+27, 1.1432476661648745e+27, 1.1425985330886845e+27, 1.1419532053810728e+27, 1.1413117584129244e+27, 1.1406741109582897e+27, 1.1400402819465406e+27, 1.1394100723614395e+27, 1.138783684807898e+27, 1.138160928478809e+27, 1.1375418809121828e+27, 1.1369265528016871e+27, 1.1363150258764276e+27, 1.1357072130444596e+27, 1.1351029776812321e+27, 1.1345024371278443e+27, 1.1339054886243465e+27, 1.1333122181169868e+27, 1.1327224924324257e+27, 1.1321363293442593e+27, 1.1315537630352616e+27, 1.1309747046793101e+27, 1.1303991324179555e+27, 1.1298271635598374e+27, 1.1292587605491088e+27, 1.1286937993638466e+27, 1.1281323121345073e+27, 1.1275742642823265e+27, 1.1270195976301991e+27, 1.126468477914702e+27, 1.1259207557395456e+27, 1.125376480545449e+27, 1.1248355331242082e+27, 1.1242979254066271e+27, 1.1237636330921714e+27, 1.1232327122392407e+27, 1.1227050371608494e+27, 1.1221806128079678e+27, 1.1216594825781175e+27, 1.1211416326855713e+27, 1.1206270166059942e+27, 1.1201155218879803e+27, 1.1196073404468828e+27, 1.1191022968773358e+27, 1.1186004792181248e+27, 1.1181018415732727e+27, 1.1176061495581882e+27, 1.1171137119237727e+27, 1.1166243216336903e+27, 1.116138016796438e+27, 1.1156547189990989e+27, 1.1151746030036431e+27, 1.1146974331521118e+27, 1.1142233060835682e+27, 1.1137521701922808e+27, 1.1132841046828477e+27, 1.1128189818184227e+27, 1.1123568481320371e+27, 1.1118976046406569e+27, 1.1114413393590906e+27, 1.1109879878091654e+27, 1.1105374827585364e+27, 1.1100898704569656e+27, 1.109645049739309e+27, 1.1092031006944307e+27, 1.108763952389694e+27, 1.1083276438308322e+27, 1.1078941009631747e+27, 1.1074632726098064e+27, 1.1070352168727184e+27, 1.1066099230551822e+27, 1.1061873948228606e+27, 1.1057674580879984e+27, 1.105350180339091e+27, 1.1049355894154144e+27, 1.1045236722458787e+27, 1.104114392732675e+27, 1.1037077491377656e+27, 1.1033036584735973e+27, 1.1029021805059673e+27, 1.1025031805453665e+27, 1.1021068850242102e+27, 1.1017129673876109e+27, 1.1013216162855065e+27, 1.1009327674515071e+27, 1.1005463803060196e+27, 1.1001624072917742e+27, 1.0997809032401084e+27, 1.0994018464479281e+27, 1.0990251208983354e+27, 1.0986508494252961e+27, 1.0982788961081668e+27, 1.0979094154826547e+27, 1.0975422688650844e+27, 1.0971774514282426e+27, 1.0968149578385232e+27, 1.0964547344492315e+27, 1.0960967717129194e+27, 1.0957411109033045e+27, 1.095387729594049e+27, 1.0950366056474548e+27, 1.094687655304641e+27, 1.0943409424855274e+27, 1.0939964742857762e+27, 1.0936541762486506e+27, 1.0933140856626829e+27, 1.0929761231320603e+27, 1.092640292136724e+27, 1.0923066532785108e+27, 1.0919751218447699e+27, 1.0916456438377526e+27, 1.0913182505909832e+27, 1.090992836387416e+27, 1.0906695163425331e+27, 1.0903481851152804e+27, 1.090028865185282e+27, 1.0897114573488106e+27, 1.0893961368394399e+27, 1.0890826316170453e+27, 1.0887711401330991e+27, 1.088461541000463e+27, 1.088153785849134e+27, 1.0878479760305361e+27, 1.0875440270353247e+27, 1.0872420062626643e+27, 1.0869417977759147e+27, 1.0866433761975334e+27, 1.0863468535091155e+27, 1.0860521051205362e+27, 1.0857591394429901e+27, 1.0854679548776581e+27, 1.085178498124056e+27, 1.0848908294931531e+27, 1.0846049002881593e+27, 1.0843206617549825e+27, 1.0840382003916219e+27, 1.0837574542197792e+27, 1.0834783806557252e+27, 1.0832009427054148e+27, 1.0829252648164478e+27, 1.0826511926704786e+27, 1.0823787295875558e+27, 1.0821078930720436e+27, 1.081838806466318e+27, 1.0815712553807958e+27, 1.0813053702605212e+27, 1.0810409960300944e+27, 1.0807781825614754e+27, 1.0805170275397222e+27, 1.0802573012159299e+27, 1.0799991286533726e+27, 1.0797424632566299e+27, 1.0794872700088786e+27, 1.0792335068342316e+27, 1.0789812499876752e+27, 1.0787303568242305e+27, 1.0784809607896744e+27, 1.0782329647228443e+27, 1.0779864097917052e+27, 1.0777411955105447e+27, 1.0774973616498139e+27, 1.0772549451787056e+27, 1.0770138516900008e+27, 1.0767740811614948e+27, 1.0765357178675252e+27, 1.0762985677799506e+27, 1.0760627807724953e+27, 1.0758283074269395e+27, 1.0755951328827856e+27, 1.0753632360187538e+27, 1.0751326171001428e+27, 1.0749032259033595e+27, 1.0746750611943563e+27, 1.0744482084309089e+27, 1.0742225414148711e+27, 1.0739981030427477e+27, 1.0737748985398163e+27, 1.0735528444900232e+27, 1.0733319139710405e+27, 1.0731122021246087e+27, 1.0728937080568982e+27, 1.0726763093583727e+27, 1.0724600949707694e+27, 1.0722450284405456e+27, 1.0720311101186901e+27, 1.0718183444486001e+27]\n"
     ]
    },
    {
     "data": {
      "image/png": "[encoded data removed]",
      "text/plain": [
       "<Figure size 640x480 with 1 Axes>"
      ]
     },
     "metadata": {},
     "output_type": "display_data"
    }
   ],
   "source": [
    "plt.plot(range(num_epochs),loss_record)\n",
    "\n",
    "print(loss_record)"
   ]
  },
  {
   "cell_type": "markdown",
   "id": "68ec2820",
   "metadata": {},
   "source": [
    "Predict Outputs"
   ]
  },
  {
   "cell_type": "code",
   "execution_count": 144,
   "id": "3bfe6804",
   "metadata": {},
   "outputs": [
    {
     "name": "stdout",
     "output_type": "stream",
     "text": [
      "tensor([[5.4443e+11],\n",
      "        [5.7647e+11]], grad_fn=<AddmmBackward0>)\n",
      "tensor([[4.8559e+09],\n",
      "        [4.8559e+09]], grad_fn=<MmBackward0>)\n",
      "[1.1410425e+08 1.7877453e+08]\n",
      "[8.2147670e+06 1.1505236e+07]\n"
     ]
    }
   ],
   "source": [
    "x = [55.5,62.1]\n",
    "xT = torch.tensor(list(x), dtype=torch.float32).unsqueeze(1)\n",
    "\n",
    "#with torch.no_grad():\n",
    "y_pred, y_deriv_pred = Model(xT)\n",
    "\n",
    "y_acc, y_deriv_acc = target_function(x)\n",
    "\n",
    "print(y_pred)\n",
    "print(y_deriv_pred)\n",
    "\n",
    "print(y_acc)\n",
    "print(y_deriv_acc)"
   ]
  }
 ],
 "metadata": {
  "kernelspec": {
   "display_name": "ML_general_env",
   "language": "python",
   "name": "python3"
  },
  "language_info": {
   "codemirror_mode": {
    "name": "ipython",
    "version": 3
   },
   "file_extension": ".py",
   "mimetype": "text/x-python",
   "name": "python",
   "nbconvert_exporter": "python",
   "pygments_lexer": "ipython3",
   "version": "3.13.5"
  }
 },
 "nbformat": 4,
 "nbformat_minor": 5
}
