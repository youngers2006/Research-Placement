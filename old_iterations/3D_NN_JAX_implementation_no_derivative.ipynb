{
 "cells": [
  {
   "cell_type": "markdown",
   "id": "183dd517",
   "metadata": {},
   "source": [
    "Import Libraries"
   ]
  },
  {
   "cell_type": "code",
   "execution_count": 177,
   "id": "19a8aa1f",
   "metadata": {},
   "outputs": [],
   "source": [
    "import jax\n",
    "import jax.numpy as jnp\n",
    "import jax.nn as jnn\n",
    "from flax import nnx\n",
    "from flax import struct\n",
    "import optax\n",
    "import matplotlib.pyplot as plt\n",
    "from tqdm import tqdm\n",
    "from typing import Any"
   ]
  },
  {
   "cell_type": "markdown",
   "id": "47b5385e",
   "metadata": {},
   "source": [
    "Unpickling the data"
   ]
  },
  {
   "cell_type": "code",
   "execution_count": 178,
   "id": "002646d9",
   "metadata": {},
   "outputs": [
    {
     "name": "stdout",
     "output_type": "stream",
     "text": [
      "(10000, 152, 3)\n",
      "(10000, 152, 3)\n",
      "(10000,)\n",
      "(30350, 152, 3)\n",
      "(30350, 1)\n"
     ]
    }
   ],
   "source": [
    "# Due to errors I was experiencing this seems to be the quickest fix I could find to allow me to unpickle the data\n",
    "import sys\n",
    "import types\n",
    "import pickle\n",
    "\n",
    "fake_module = types.ModuleType(\"DataSetup\")\n",
    "\n",
    "class DataStore:\n",
    "    def __init__(self):\n",
    "        pass\n",
    "\n",
    "fake_module.DataStore = DataStore\n",
    "\n",
    "sys.modules[\"DataSetup\"] = fake_module\n",
    "\n",
    "data_file_1 = r\"C:\\Users\\samue\\Downloads\\Simulation 3.pickle\"\n",
    "data_file_2 = r\"C:\\Users\\samue\\Downloads\\Simulation 4.pickle\"\n",
    "data_file_3 = r\"C:\\Users\\samue\\Downloads\\Simulation 5.pickle\"\n",
    "data_file_4 = r\"C:\\Users\\samue\\Downloads\\Simulation 6.pickle\"\n",
    "data_file_5 = r\"C:\\Users\\samue\\Downloads\\Simulation 7.pickle\"\n",
    "data_file_6 = r\"C:\\Users\\samue\\Downloads\\Simulation 8.pickle\"\n",
    "data_file_7 = r\"C:\\Users\\samue\\Downloads\\Simulation 9.pickle\"\n",
    "data_file_8 = r\"C:\\Users\\samue\\Downloads\\Simulation 10.pickle\"\n",
    "\n",
    "with open(data_file_1,\"rb\") as f:\n",
    "    data_unpickled_1 = pickle.load(f)\n",
    "\n",
    "with open(data_file_2,\"rb\") as f:\n",
    "    data_unpickled_2 = pickle.load(f)\n",
    "\n",
    "with open(data_file_3,\"rb\") as f:\n",
    "    data_unpickled_3 = pickle.load(f)\n",
    "\n",
    "with open(data_file_4,\"rb\") as f:\n",
    "    data_unpickled_4 = pickle.load(f)\n",
    "\n",
    "with open(data_file_5,\"rb\") as f:\n",
    "    data_unpickled_5 = pickle.load(f)\n",
    "\n",
    "with open(data_file_6,\"rb\") as f:\n",
    "    data_unpickled_6 = pickle.load(f)\n",
    "\n",
    "with open(data_file_7,\"rb\") as f:\n",
    "    data_unpickled_7 = pickle.load(f)\n",
    "\n",
    "with open(data_file_8,\"rb\") as f:\n",
    "    data_unpickled_8 = pickle.load(f)\n",
    "\n",
    "_,data_object_1 = data_unpickled_1\n",
    "_,data_object_2 = data_unpickled_2\n",
    "_,data_object_3 = data_unpickled_3\n",
    "_,data_object_4 = data_unpickled_4\n",
    "_,data_object_5 = data_unpickled_5\n",
    "_,data_object_6 = data_unpickled_6\n",
    "_,data_object_7 = data_unpickled_7\n",
    "_,data_object_8 = data_unpickled_8\n",
    "\n",
    "input_dataset_1 = jnp.array(data_object_1.Indata)\n",
    "e_dataset_1 = jnp.array(data_object_1.SE)\n",
    "\n",
    "\n",
    "input_dataset_2 = jnp.array(data_object_2.Indata)\n",
    "e_dataset_2 = jnp.array(data_object_2.SE)\n",
    "\n",
    "\n",
    "input_dataset_3 = jnp.array(data_object_3.Indata)\n",
    "e_dataset_3 = jnp.array(data_object_3.SE)\n",
    "\n",
    "\n",
    "input_dataset_4 = jnp.array(data_object_4.Indata)\n",
    "e_dataset_4 = jnp.array(data_object_4.SE)\n",
    "\n",
    "\n",
    "input_dataset_5 = jnp.array(data_object_5.Indata)\n",
    "e_dataset_5 = jnp.array(data_object_5.SE)\n",
    "\n",
    "input_dataset_6 = jnp.array(data_object_6.Indata)\n",
    "e_dataset_6 = jnp.array(data_object_6.SE)\n",
    "\n",
    "\n",
    "input_dataset_7 = jnp.array(data_object_7.Indata)\n",
    "e_dataset_7 = jnp.array(data_object_7.SE)\n",
    "\n",
    "\n",
    "input_dataset_8 = jnp.array(data_object_8.Indata)\n",
    "e_dataset_8 = jnp.array(data_object_8.SE)\n",
    "\n",
    "\n",
    "print(input_dataset_2.shape)\n",
    "print(input_dataset_1.shape)\n",
    "print(e_dataset_1.shape)\n",
    "\n",
    "input_dataset = jax.numpy.concatenate([input_dataset_1[0:5100],input_dataset_2[0:5100]],axis=0)\n",
    "target_e_dataset = jax.numpy.concatenate([e_dataset_1[0:5100], e_dataset_2[0:5100]],axis=0)\n",
    "\n",
    "input_dataset = jax.numpy.concatenate([input_dataset,input_dataset_3[0:5200]],axis=0)\n",
    "target_e_dataset = jax.numpy.concatenate([target_e_dataset, e_dataset_3[0:5200]],axis=0)\n",
    "\n",
    "\n",
    "input_dataset = jax.numpy.concatenate([input_dataset,input_dataset_4[0:5100]],axis=0)\n",
    "target_e_dataset = jax.numpy.concatenate([target_e_dataset, e_dataset_4[0:5100]],axis=0)\n",
    "\n",
    "\n",
    "input_dataset = jax.numpy.concatenate([input_dataset,input_dataset_5[0:4500]],axis=0)\n",
    "target_e_dataset = jax.numpy.concatenate([target_e_dataset, e_dataset_5[0:4500]],axis=0)\n",
    "\n",
    "\n",
    "input_dataset = jax.numpy.concatenate([input_dataset,input_dataset_6[0:4000]],axis=0)\n",
    "target_e_dataset = jax.numpy.concatenate([target_e_dataset, e_dataset_6[0:4000]],axis=0)\n",
    "\n",
    "\n",
    "input_dataset = jax.numpy.concatenate([input_dataset,input_dataset_7[0:700]],axis=0)\n",
    "target_e_dataset = jax.numpy.concatenate([target_e_dataset, e_dataset_7[0:700]],axis=0)\n",
    "\n",
    "\n",
    "input_dataset = jax.numpy.concatenate([input_dataset,input_dataset_8[0:650]],axis=0)\n",
    "target_e_dataset = jax.numpy.concatenate([target_e_dataset, e_dataset_8[0:650]],axis=0)\n",
    "target_e_dataset = jax.numpy.expand_dims(target_e_dataset,axis=1)\n",
    "\n",
    "\n",
    "print(input_dataset.shape)\n",
    "print(target_e_dataset.shape)\n"
   ]
  },
  {
   "cell_type": "markdown",
   "id": "e080cf8e",
   "metadata": {},
   "source": [
    "Hyper Parameters"
   ]
  },
  {
   "cell_type": "code",
   "execution_count": 179,
   "id": "fa714ec3",
   "metadata": {},
   "outputs": [],
   "source": [
    "Epochs = 2000\n",
    "alpha = 1.0\n",
    "lambda_ = 100.0\n",
    "beta_1 = 0.9\n",
    "beta_2 = 0.999\n",
    "Batch_size = 40\n",
    "train_split = 0.9\n",
    "steps_per_epoch = input_dataset.shape[0] // Batch_size\n",
    "Learn_Rate = optax.exponential_decay(\n",
    "    init_value=0.001,\n",
    "    transition_steps=steps_per_epoch * 5,\n",
    "    decay_rate=0.99\n",
    ")"
   ]
  },
  {
   "cell_type": "markdown",
   "id": "558e5ebb",
   "metadata": {},
   "source": [
    "Redimensionalise"
   ]
  },
  {
   "cell_type": "code",
   "execution_count": 180,
   "id": "fb876813",
   "metadata": {},
   "outputs": [],
   "source": [
    "def Redimensionalise(self):\n",
    "    self.Disp = jnp.zeros((self.Dims,self.Dims,self.Dims,3))\n",
    "    m = 0\n",
    "    for i in range(self.Dims):\n",
    "        for j in range(self.Dims):\n",
    "            for k in range(self.Dims):\n",
    "                if self.xInMesh[0][i,j,k] == 0 or self.xInMesh[0][i,j,k] == 1 or self.xInMesh[1][i,j,k] == 0 or self.xInMesh[1][i,j,k] == 1 or self.xInMesh[2][i,j,k] == 0 or self.xInMesh[2][i,j,k] == 1:\n",
    "                    self.Disp[i,j,k,:] = self.RandDisp[self.Index,m,:]\n",
    "                    m = m +1\n",
    "    return self.Disp\n",
    "    "
   ]
  },
  {
   "cell_type": "markdown",
   "id": "ef53d879",
   "metadata": {},
   "source": [
    "RNG key"
   ]
  },
  {
   "cell_type": "code",
   "execution_count": 181,
   "id": "debbce9d",
   "metadata": {},
   "outputs": [],
   "source": [
    "seed = 42 # This can be changed but is here to make the results easy to reproduce\n",
    "base_key = jax.random.PRNGKey(seed)\n",
    "rngs = nnx.Rngs(base_key)"
   ]
  },
  {
   "cell_type": "markdown",
   "id": "fec14bee",
   "metadata": {},
   "source": [
    "Pre and post processing functions"
   ]
  },
  {
   "cell_type": "code",
   "execution_count": 182,
   "id": "6607d860",
   "metadata": {},
   "outputs": [],
   "source": [
    "def mean_and_std_dev(data,*,train_split):\n",
    "    split_idx = int(data.shape[0] * train_split)\n",
    "    train_data = data[:split_idx]\n",
    "    \n",
    "    mean = jnp.mean(train_data, axis=0)\n",
    "    std_dev = jnp.std(train_data, axis=0)\n",
    "    return {'mean':mean, 'std_dev':std_dev}\n",
    "\n",
    "def scale_data(data,*, data_params):\n",
    "    return (data - data_params['mean']) / data_params['std_dev']\n",
    "    \n",
    "\n",
    "def unscale_data(data,*,data_params):\n",
    "    return (data * data_params['std_dev']) + data_params['mean']\n",
    "\n",
    "def add_square_feature(data,*,axis, feature_number):\n",
    "    new_feature = jnp.square(data)\n",
    "    new_data = jnp.concatenate([data,new_feature],axis=axis)\n",
    "    feature_number += 1\n",
    "    return new_data, feature_number\n",
    "\n"
   ]
  },
  {
   "cell_type": "markdown",
   "id": "328deec4",
   "metadata": {},
   "source": [
    "Dataset - Note: need to remove input scaling in the dataset as its done in the model, need to add a parameter calulator for the input that concatenates the square data then gets params"
   ]
  },
  {
   "cell_type": "code",
   "execution_count": 183,
   "id": "e4221141",
   "metadata": {},
   "outputs": [
    {
     "name": "stdout",
     "output_type": "stream",
     "text": [
      "INSPECTING RAW DATASET\n",
      "Key: 'displacements'\n",
      "  - Type: <class 'jaxlib._jax.ArrayImpl'>\n",
      "  - Shape: (30350, 912)\n",
      "  - Dtype: float32\n",
      "Key: 'target_e'\n",
      "  - Type: <class 'jaxlib._jax.ArrayImpl'>\n",
      "  - Shape: (30350,)\n",
      "  - Dtype: float32\n",
      "------------------------------\n"
     ]
    }
   ],
   "source": [
    "batch_num = input_dataset.shape[0] // Batch_size\n",
    "\n",
    "input_dataset = input_dataset.reshape((input_dataset.shape[0],456))\n",
    "displacement_dim = input_dataset.shape[1]\n",
    "\n",
    "# add features\n",
    "num_features = 0\n",
    "input_dataset, num_features = add_square_feature(input_dataset,axis=1, feature_number=num_features)\n",
    "\n",
    "target_e_dataset = target_e_dataset.reshape((target_e_dataset.shape[0],))\n",
    "\n",
    "params_dict_displacement = mean_and_std_dev(input_dataset,train_split=train_split)\n",
    "params_dict_target_e = mean_and_std_dev(target_e_dataset,train_split=train_split)\n",
    "\n",
    "input_dataset_scaled = scale_data(input_dataset,data_params=params_dict_displacement)\n",
    "target_e_dataset_scaled = scale_data(target_e_dataset, data_params=params_dict_target_e)\n",
    "\n",
    "Dataset_parameters = {\n",
    "    'displacements':params_dict_displacement,\n",
    "    'target_e':params_dict_target_e,\n",
    "    'num_features':num_features,\n",
    "    'standard_displacement_dim':displacement_dim\n",
    "}\n",
    "\n",
    "Dataset = {\n",
    "    'displacements':input_dataset_scaled, \n",
    "    'target_e':target_e_dataset_scaled\n",
    "}\n",
    "\n",
    "print(\"INSPECTING RAW DATASET\")\n",
    "for key, value in Dataset.items():\n",
    "    print(f\"Key: '{key}'\")\n",
    "    print(f\"  - Type: {type(value)}\")\n",
    "    if hasattr(value, 'shape'):\n",
    "        print(f\"  - Shape: {value.shape}\")\n",
    "    else:\n",
    "        print(\"  - No shape attribute.\")\n",
    "    if hasattr(value, 'dtype'):\n",
    "        print(f\"  - Dtype: {value.dtype}\")\n",
    "print(\"------------------------------\")\n"
   ]
  },
  {
   "cell_type": "code",
   "execution_count": 184,
   "id": "b799cb83",
   "metadata": {},
   "outputs": [
    {
     "name": "stdout",
     "output_type": "stream",
     "text": [
      "0.4668425\n",
      "[ 0.11393911  0.13748845 -0.66744673 ... -0.368792    1.5174875\n",
      "  0.19836256]\n"
     ]
    }
   ],
   "source": [
    "print(Dataset['displacements'][0][1])\n",
    "print(Dataset['target_e'][:])"
   ]
  },
  {
   "cell_type": "markdown",
   "id": "2943c7c2",
   "metadata": {},
   "source": [
    "Node Classes and Acivations"
   ]
  },
  {
   "cell_type": "code",
   "execution_count": 185,
   "id": "8a77bc00",
   "metadata": {},
   "outputs": [],
   "source": [
    "class Linear(nnx.Module):\n",
    "    \"\"\"Linear node for neural network\"\"\"\n",
    "\n",
    "    def __init__(self,din: int,dout: int,*,rngs: nnx.Rngs):\n",
    "        key = rngs.params()\n",
    "        self.W = nnx.Param(jax.random.uniform(key=key, shape=(din,dout)))\n",
    "        self.b = nnx.Param(jnp.zeros(shape=(dout,)))\n",
    "        self.din, self.dout = din, dout\n",
    "\n",
    "    def __call__(self,x: jax.Array):\n",
    "        return(x @ self.W + self.b)\n",
    "    \n",
    "def SiLU(x: jax.Array):\n",
    "    \"\"\"Sigmoid Weighted Linear Unit activation function\"\"\"\n",
    "    return x * jax.nn.sigmoid(x)"
   ]
  },
  {
   "cell_type": "markdown",
   "id": "5d26f9bc",
   "metadata": {},
   "source": [
    "Model Architecture"
   ]
  },
  {
   "cell_type": "code",
   "execution_count": 186,
   "id": "59bfbfa6",
   "metadata": {},
   "outputs": [],
   "source": [
    "class energy_prediction(nnx.Module):\n",
    "    \"\"\"\n",
    "    Model architecture\n",
    "    Inputs: standardised displacements and all engineered features and the parameters of the dataset\n",
    "    Outputs: standardised energy value\n",
    "    \"\"\"\n",
    "\n",
    "    def __init__(self,dim_in: int, dim_hidden1_in: int, dim_out: int,*,rngs: nnx.Rngs):\n",
    "        self.layer1 = Linear(din=dim_in,dout=dim_hidden1_in,rngs=rngs)\n",
    "        self.output_layer = Linear(din=dim_hidden1_in,dout=dim_out, rngs=rngs)\n",
    "        self.silu = SiLU\n",
    "\n",
    "    def forwardPass(self,x):\n",
    "            x = self.layer1(x)\n",
    "            x = self.silu(x)\n",
    "            x = self.output_layer(x)\n",
    "            return x.squeeze()\n",
    "        \n",
    "    def __call__(self,x_in):\n",
    "        e = jax.vmap(self.forwardPass)(x_in)\n",
    "        return e\n"
   ]
  },
  {
   "cell_type": "markdown",
   "id": "fc036a78",
   "metadata": {},
   "source": [
    "Define optimiser and loss"
   ]
  },
  {
   "cell_type": "code",
   "execution_count": 187,
   "id": "f469e747",
   "metadata": {},
   "outputs": [],
   "source": [
    "optimiser = optax.chain(\n",
    "    optax.add_decayed_weights(weight_decay=1e-5),\n",
    "    optax.adam(\n",
    "    learning_rate=Learn_Rate, \n",
    "    b1=beta_1, \n",
    "    b2=beta_2\n",
    "    )\n",
    ")\n",
    "\n",
    "def loss_fn(x: jax.Array, target_e,*, Model, Dataset_parameters, alpha, lam): \n",
    "    \"\"\"\n",
    "    Calculates the loss of a model, works to minimise the mean square error of both \n",
    "    the strain energy prediction and the strain energy derivative prediction,\n",
    "    whilst forcing the function through zero.\n",
    "    \"\"\"\n",
    "    \n",
    "    prediction_e = Model(x)\n",
    "    loss_e = jnp.mean((prediction_e - target_e)**2)\n",
    "\n",
    "    mean_e = Dataset_parameters['target_e']['mean']\n",
    "    std_dev_e = Dataset_parameters['target_e']['std_dev']\n",
    "    target_zero = (0 - mean_e) / std_dev_e\n",
    "    \n",
    "    x_zero = jnp.zeros(x[0].shape)\n",
    "    x_zero = jnp.expand_dims(x_zero, axis=0)\n",
    "    prediction_zero = Model(x_zero)\n",
    "    loss_zero = jnp.mean((prediction_zero - target_zero)**2)\n",
    "\n",
    "    return (alpha * loss_e + lam * loss_zero)"
   ]
  },
  {
   "cell_type": "markdown",
   "id": "e57659f0",
   "metadata": {},
   "source": [
    "Train State Bundle"
   ]
  },
  {
   "cell_type": "code",
   "execution_count": 188,
   "id": "b764c467",
   "metadata": {},
   "outputs": [],
   "source": [
    "@nnx.dataclass\n",
    "class TrainState(nnx.Object):\n",
    "    params: Any\n",
    "    graph_def: Any \n",
    "    state: Any\n",
    "    alpha: float \n",
    "    lambda_: float "
   ]
  },
  {
   "cell_type": "markdown",
   "id": "84118860",
   "metadata": {},
   "source": [
    "Train Step"
   ]
  },
  {
   "cell_type": "code",
   "execution_count": 189,
   "id": "da6228ab",
   "metadata": {},
   "outputs": [],
   "source": [
    "@nnx.jit\n",
    "def training_step(params,state,opt_state,batch,*,graph_def,Dataset_parameters,alpha,lambda_):\n",
    "\n",
    "    disp_in = batch['displacements']\n",
    "    e_target = batch['target_e']\n",
    "\n",
    "    def wrapped_loss_fn(params_,state_):\n",
    "        Model = nnx.merge(graph_def,params_,state_)\n",
    "        loss = loss_fn(\n",
    "            disp_in,\n",
    "            e_target,\n",
    "            Model=Model,\n",
    "            Dataset_parameters=Dataset_parameters,\n",
    "            alpha=alpha,\n",
    "            lam=lambda_\n",
    "        )\n",
    "        return loss\n",
    "\n",
    "    loss, grads = nnx.value_and_grad(wrapped_loss_fn, argnums=0)(params, state) \n",
    "    updates, new_opt_state = optimiser.update(grads, opt_state, params)\n",
    "    new_params = optax.apply_updates(params, updates)\n",
    "    new_state = state\n",
    "\n",
    "    return new_params, new_state, new_opt_state, loss"
   ]
  },
  {
   "cell_type": "markdown",
   "id": "d3e88cb1",
   "metadata": {},
   "source": [
    "Batch Creator and test set creator"
   ]
  },
  {
   "cell_type": "code",
   "execution_count": 190,
   "id": "b9981b0d",
   "metadata": {},
   "outputs": [],
   "source": [
    "def split_and_batch_dataset(dataset, batch_size, test_split=0.2, shuffle=True):\n",
    "    \"\"\"\n",
    "    Splits the dataset into training and test sets, then yields batches for each.\n",
    "    Returns: (train_batches, test_batches).\n",
    "    \"\"\"\n",
    "    N = dataset['displacements'].shape[0]\n",
    "    indices = jnp.arange(N)\n",
    "    if shuffle:\n",
    "        indices = jax.random.permutation(jax.random.PRNGKey(0), indices)\n",
    "    split_idx = int(N * (1 - test_split))\n",
    "    train_idx = indices[:split_idx]\n",
    "    test_idx = indices[split_idx:]\n",
    "\n",
    "    def batch_indices(idx):\n",
    "        batch_num = len(idx) // batch_size\n",
    "        for i in range(batch_num):\n",
    "            start = i * batch_size\n",
    "            end = start + batch_size\n",
    "            batch_idx = idx[start:end]\n",
    "            batch = {key: value[batch_idx] for key, value in dataset.items()}\n",
    "            yield batch\n",
    "\n",
    "    train_batches = list(batch_indices(train_idx))\n",
    "    test_batches = list(batch_indices(test_idx))\n",
    "    return train_batches, test_batches"
   ]
  },
  {
   "cell_type": "markdown",
   "id": "8e467e7e",
   "metadata": {},
   "source": [
    "Create test and train batches"
   ]
  },
  {
   "cell_type": "code",
   "execution_count": 191,
   "id": "df10eb84",
   "metadata": {},
   "outputs": [],
   "source": [
    "train_batches, test_batches = split_and_batch_dataset(\n",
    "    Dataset, \n",
    "    Batch_size, \n",
    "    test_split=(1 - train_split), \n",
    "    shuffle=True\n",
    ")"
   ]
  },
  {
   "cell_type": "markdown",
   "id": "df560003",
   "metadata": {},
   "source": [
    "Training Loop"
   ]
  },
  {
   "cell_type": "code",
   "execution_count": 192,
   "id": "23fdd255",
   "metadata": {},
   "outputs": [
    {
     "name": "stderr",
     "output_type": "stream",
     "text": [
      "Epoch 0/2000:   0%|          | 0/682 [00:00<?, ?it/s]"
     ]
    },
    {
     "name": "stderr",
     "output_type": "stream",
     "text": [
      "                                                                    \r"
     ]
    }
   ],
   "source": [
    "# Instantiate energy prediction NN\n",
    "Model = energy_prediction(\n",
    "    dim_in=input_dataset.shape[1], \n",
    "    dim_hidden1_in=64,\n",
    "    dim_out=1,\n",
    "    rngs=rngs\n",
    ")\n",
    "\n",
    "graph_def,params,state = nnx.split(Model,nnx.Param,nnx.State)\n",
    "opt_state = optimiser.init(params)\n",
    "\n",
    "train_state = TrainState(\n",
    "    graph_def=graph_def,\n",
    "    params=params,\n",
    "    state=state,\n",
    "    alpha=alpha,\n",
    "    lambda_=lambda_\n",
    "    )\n",
    "\n",
    "loss_record = []\n",
    "\n",
    "for epoch in range(Epochs):\n",
    "    running_loss = 0.0\n",
    "    batch_count = 0\n",
    "\n",
    "    for batch in tqdm(train_batches,desc=f\"Epoch {epoch}/{Epochs}\", leave=False):\n",
    "        \n",
    "        new_params, new_state, new_opt_state, loss_batch = training_step(\n",
    "            train_state.params,\n",
    "            train_state.state,\n",
    "            opt_state,\n",
    "            batch,\n",
    "            graph_def=train_state.graph_def,\n",
    "            Dataset_parameters=Dataset_parameters,\n",
    "            alpha=train_state.alpha,\n",
    "            lambda_=train_state.lambda_\n",
    "        )\n",
    "\n",
    "        opt_state = new_opt_state\n",
    "        train_state.params = new_params\n",
    "        train_state.state = new_state\n",
    "\n",
    "        running_loss += loss_batch\n",
    "        batch_count += 1\n",
    "    \n",
    "    avg_loss = avg_loss = running_loss / batch_count if batch_count > 0 else 0.0\n",
    "    loss_record.append(avg_loss)"
   ]
  },
  {
   "cell_type": "markdown",
   "id": "49e850b4",
   "metadata": {},
   "source": [
    "Final model storage"
   ]
  },
  {
   "cell_type": "code",
   "execution_count": 193,
   "id": "f0738a8a",
   "metadata": {},
   "outputs": [],
   "source": [
    "@nnx.dataclass\n",
    "class ModelData(nnx.Object):\n",
    "    graph_def: Any\n",
    "    params: Any\n",
    "    state: Any\n",
    "    Dataset_parameters: Any\n",
    "    trained: bool"
   ]
  },
  {
   "cell_type": "markdown",
   "id": "6f62b354",
   "metadata": {},
   "source": [
    "Create Final model instance"
   ]
  },
  {
   "cell_type": "code",
   "execution_count": 194,
   "id": "78303138",
   "metadata": {},
   "outputs": [],
   "source": [
    "graph_def_trained = train_state.graph_def\n",
    "params_trained = train_state.params\n",
    "state_trained = train_state.state\n",
    "\n",
    "model_data = ModelData(\n",
    "    graph_def=graph_def_trained,\n",
    "    params=params_trained,\n",
    "    state=state_trained,\n",
    "    Dataset_parameters=Dataset_parameters,\n",
    "    trained=True\n",
    ")"
   ]
  },
  {
   "cell_type": "markdown",
   "id": "1bc294f4",
   "metadata": {},
   "source": [
    "Plots"
   ]
  },
  {
   "cell_type": "code",
   "execution_count": 195,
   "id": "80f93141",
   "metadata": {},
   "outputs": [
    {
     "data": {
      "text/plain": [
       "[<matplotlib.lines.Line2D at 0x1b9b5ec56d0>]"
      ]
     },
     "execution_count": 195,
     "metadata": {},
     "output_type": "execute_result"
    },
    {
     "data": {
      "image/png": "[encoded data removed]",
      "text/plain": [
       "<Figure size 640x480 with 1 Axes>"
      ]
     },
     "metadata": {},
     "output_type": "display_data"
    }
   ],
   "source": [
    "plt.plot(jnp.log10(jnp.array(loss_record)))\n",
    "#plt.plot(loss_record)"
   ]
  },
  {
   "cell_type": "markdown",
   "id": "61baeb33",
   "metadata": {},
   "source": [
    "Model Testing"
   ]
  },
  {
   "cell_type": "code",
   "execution_count": 196,
   "id": "1645b1ff",
   "metadata": {},
   "outputs": [],
   "source": [
    "def avg_abs_error(pred,target):\n",
    "    n1 = pred.shape[0]\n",
    "    n2 = target.shape[0]\n",
    "\n",
    "    if n1 != n2:\n",
    "        raise(\"Error: inputs must have matching shape\")\n",
    "    \n",
    "    return (jnp.sum(jnp.abs(pred - target)) / n1)\n",
    "\n",
    "def test_model(model_data, test_batches,*,loss_fn, alpha, lambda_):\n",
    "\n",
    "    trained = model_data.trained\n",
    "    if not trained:\n",
    "        raise TypeError(\"Model is untrained, please train the model before evaluation\")\n",
    "\n",
    "    test_graph_def = model_data.graph_def\n",
    "    test_params = model_data.params\n",
    "    test_state = model_data.state\n",
    "\n",
    "    test_model = nnx.merge(test_graph_def,test_params,test_state)\n",
    "\n",
    "    loss_test = 0.0\n",
    "    test_count = 0\n",
    "\n",
    "    for batch in test_batches:\n",
    "        displacements_test = batch['displacements']\n",
    "        e_target_test = batch['target_e']\n",
    "\n",
    "        e_target_test_US = unscale_data(e_target_test,data_params=model_data.Dataset_parameters['target_e'])\n",
    "\n",
    "        e_pred_test = test_model(displacements_test)\n",
    "\n",
    "        #displacements_test = unscale_data(displacements_test,data_params=Dataset_parameters['displacements'])\n",
    "        e_pred_test_US = unscale_data(e_pred_test,data_params=model_data.Dataset_parameters['target_e'])\n",
    "\n",
    "        batch_loss_test = loss_fn(\n",
    "            displacements_test,\n",
    "            e_target_test,\n",
    "            Model=test_model,\n",
    "            Dataset_parameters=model_data.Dataset_parameters,\n",
    "            alpha=alpha,\n",
    "            lam=lambda_\n",
    "        )\n",
    "\n",
    "        loss_test += batch_loss_test\n",
    "        test_count += 1\n",
    "\n",
    "        avg_e_abs_error = avg_abs_error(e_pred_test_US,e_target_test_US)\n",
    "\n",
    "    avg_loss_test = loss_test / test_count\n",
    "    zero_val_e = test_model(scale_data(jnp.zeros_like(test_batches[0]['displacements']),data_params=model_data.Dataset_parameters['displacements']))\n",
    "    zero_val_e = unscale_data(zero_val_e,data_params=model_data.Dataset_parameters['target_e'])\n",
    "    test_e_zero_error = avg_abs_error(zero_val_e, jnp.zeros_like(zero_val_e))\n",
    "\n",
    "    return avg_loss_test, avg_e_abs_error, test_e_zero_error\n",
    "\n"
   ]
  },
  {
   "cell_type": "markdown",
   "id": "18fe3504",
   "metadata": {},
   "source": [
    "Test"
   ]
  },
  {
   "cell_type": "code",
   "execution_count": 197,
   "id": "1486d309",
   "metadata": {},
   "outputs": [
    {
     "name": "stdout",
     "output_type": "stream",
     "text": [
      "The average absolute error for e is 35.3173942565918 in the test set\n",
      "the absolute zero error for e is 233.8740234375 in the test set\n",
      "The average loss across the training set is 10.18609619140625\n",
      "The average absolute error for e is 0.3339073061943054 in the training set\n",
      "the absolute zero error for e is 233.8740234375 in the training set\n"
     ]
    }
   ],
   "source": [
    "avg_loss_test, avg_e_abs_error, test_e_zero_error = test_model(model_data,test_batches,loss_fn=loss_fn,alpha=alpha,lambda_=lambda_)\n",
    "avg_loss_training, avg_e_abs_error_training, test_e_zero_error_training = test_model(model_data,train_batches,loss_fn=loss_fn,alpha=alpha,lambda_=lambda_)\n",
    " \n",
    "print(f\"The average absolute error for e is {avg_e_abs_error} in the test set\") \n",
    "print(f\"the absolute zero error for e is {test_e_zero_error} in the test set\") \n",
    "\n",
    "print(f\"The average loss across the training set is {avg_loss_test}\")\n",
    "print(f\"The average absolute error for e is {avg_e_abs_error_training} in the training set\")\n",
    "print(f\"the absolute zero error for e is {test_e_zero_error_training} in the training set\")"
   ]
  },
  {
   "cell_type": "markdown",
   "id": "8a3a6b18",
   "metadata": {},
   "source": [
    "sliced graphs"
   ]
  },
  {
   "cell_type": "code",
   "execution_count": 198,
   "id": "af86c267",
   "metadata": {},
   "outputs": [
    {
     "data": {
      "image/png": "[encoded data removed]",
      "text/plain": [
       "<Figure size 640x480 with 1 Axes>"
      ]
     },
     "metadata": {},
     "output_type": "display_data"
    },
    {
     "data": {
      "image/png": "[encoded data removed]",
      "text/plain": [
       "<Figure size 640x480 with 1 Axes>"
      ]
     },
     "metadata": {},
     "output_type": "display_data"
    },
    {
     "data": {
      "image/png": "[encoded data removed]",
      "text/plain": [
       "<Figure size 640x480 with 1 Axes>"
      ]
     },
     "metadata": {},
     "output_type": "display_data"
    },
    {
     "data": {
      "image/png": "[encoded data removed]",
      "text/plain": [
       "<Figure size 640x480 with 1 Axes>"
      ]
     },
     "metadata": {},
     "output_type": "display_data"
    }
   ],
   "source": [
    "displacement_range = jnp.linspace(-0.005, 0.005, 100)\n",
    "slice_inputs = jnp.zeros((100, 912))\n",
    "slice_inputs = slice_inputs.at[:, 0].set(displacement_range)\n",
    "slice_inputs = slice_inputs.at[:, 456].set(jnp.square(displacement_range))\n",
    "scaled_slice_inputs = scale_data(slice_inputs, data_params=Dataset_parameters['displacements'])\n",
    "trained_model = nnx.merge(model_data.graph_def, model_data.params, model_data.state)\n",
    "predicted_scaled_energies = trained_model(scaled_slice_inputs)\n",
    "predicted_energies = unscale_data(predicted_scaled_energies, data_params=Dataset_parameters['target_e'])\n",
    "\n",
    "plt.figure()\n",
    "plt.plot(displacement_range, predicted_energies)\n",
    "plt.xlabel(\"Displacement of Feature 0\")\n",
    "plt.ylabel(\"Predicted Energy\")\n",
    "plt.title(\"Energy vs. a Single Displacement\")\n",
    "plt.grid(True)\n",
    "plt.show()\n",
    "\n",
    "displacement_range = jnp.linspace(-0.005, 0.005, 100)\n",
    "slice_inputs = jnp.zeros((100, 912))\n",
    "slice_inputs = slice_inputs.at[:, 1].set(displacement_range)\n",
    "slice_inputs = slice_inputs.at[:, 457].set(jnp.square(displacement_range))\n",
    "scaled_slice_inputs = scale_data(slice_inputs, data_params=Dataset_parameters['displacements'])\n",
    "trained_model = nnx.merge(model_data.graph_def, model_data.params, model_data.state)\n",
    "predicted_scaled_energies = trained_model(scaled_slice_inputs)\n",
    "predicted_energies = unscale_data(predicted_scaled_energies, data_params=Dataset_parameters['target_e'])\n",
    "\n",
    "plt.figure()\n",
    "plt.plot(displacement_range, predicted_energies)\n",
    "plt.xlabel(\"Displacement of Feature 1\")\n",
    "plt.ylabel(\"Predicted Energy\")\n",
    "plt.title(\"Energy vs. a Single Displacement\")\n",
    "plt.grid(True)\n",
    "plt.show()\n",
    "\n",
    "displacement_range = jnp.linspace(-0.005, 0.005, 100)\n",
    "slice_inputs = jnp.zeros((100, 912))\n",
    "slice_inputs = slice_inputs.at[:, 120].set(displacement_range)\n",
    "slice_inputs = slice_inputs.at[:, 456 + 120].set(jnp.square(displacement_range))\n",
    "scaled_slice_inputs = scale_data(slice_inputs, data_params=Dataset_parameters['displacements'])\n",
    "trained_model = nnx.merge(model_data.graph_def, model_data.params, model_data.state)\n",
    "predicted_scaled_energies = trained_model(scaled_slice_inputs)\n",
    "predicted_energies = unscale_data(predicted_scaled_energies, data_params=Dataset_parameters['target_e'])\n",
    "\n",
    "plt.figure()\n",
    "plt.plot(displacement_range, predicted_energies)\n",
    "plt.xlabel(\"Displacement of Feature 1\")\n",
    "plt.ylabel(\"Predicted Energy\")\n",
    "plt.title(\"Energy vs. a Single Displacement\")\n",
    "plt.grid(True)\n",
    "plt.show()\n",
    "\n",
    "displacement_range = jnp.linspace(-0.005, 0.005, 100)\n",
    "slice_inputs = jnp.zeros((100, 912))\n",
    "slice_inputs = slice_inputs.at[:, 180].set(displacement_range)\n",
    "slice_inputs = slice_inputs.at[:, 456 + 180].set(jnp.square(displacement_range))\n",
    "scaled_slice_inputs = scale_data(slice_inputs, data_params=Dataset_parameters['displacements'])\n",
    "trained_model = nnx.merge(model_data.graph_def, model_data.params, model_data.state)\n",
    "predicted_scaled_energies = trained_model(scaled_slice_inputs)\n",
    "predicted_energies = unscale_data(predicted_scaled_energies, data_params=Dataset_parameters['target_e'])\n",
    "\n",
    "plt.figure()\n",
    "plt.plot(displacement_range, predicted_energies)\n",
    "plt.xlabel(\"Displacement of Feature 1\")\n",
    "plt.ylabel(\"Predicted Energy\")\n",
    "plt.title(\"Energy vs. a Single Displacement\")\n",
    "plt.grid(True)\n",
    "plt.show()"
   ]
  }
 ],
 "metadata": {
  "kernelspec": {
   "display_name": "JAX_ML_env_two",
   "language": "python",
   "name": "python3"
  },
  "language_info": {
   "codemirror_mode": {
    "name": "ipython",
    "version": 3
   },
   "file_extension": ".py",
   "mimetype": "text/x-python",
   "name": "python",
   "nbconvert_exporter": "python",
   "pygments_lexer": "ipython3",
   "version": "3.13.5"
  }
 },
 "nbformat": 4,
 "nbformat_minor": 5
}
